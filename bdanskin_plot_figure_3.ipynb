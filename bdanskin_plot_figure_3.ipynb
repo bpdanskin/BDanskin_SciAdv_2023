{
 "cells": [
  {
   "cell_type": "markdown",
   "id": "71a0d3ac-8c62-406e-8389-f50a79653758",
   "metadata": {},
   "source": [
    "# Figure 3\n",
    "Neurons exponentially integrate with heterogeneous time-constants, and the time-constants in RSC cells best match the behavior"
   ]
  },
  {
   "cell_type": "code",
   "execution_count": 1,
   "id": "e0f78ab6-21c1-4dae-9dcd-1ca26cb4253f",
   "metadata": {},
   "outputs": [],
   "source": [
    "%load_ext autoreload"
   ]
  },
  {
   "cell_type": "markdown",
   "id": "a1fe9381-0f45-47e0-8e4c-f8a64f53f778",
   "metadata": {},
   "source": [
    "## General import functions"
   ]
  },
  {
   "cell_type": "code",
   "execution_count": 44,
   "id": "506bf356-26c5-4f16-85d8-701b7dcd38d7",
   "metadata": {},
   "outputs": [],
   "source": [
    "%reset -f\n",
    "import sys\n",
    "from os.path import dirname, join as pjoin\n",
    "from os import listdir\n",
    "sys.path.append('C:\\\\jupyter_notebooks\\\\Danskin_SciAdv_2023\\\\py_code') # set local directory\n",
    "import numpy as np\n",
    "import pickle\n",
    "import random\n",
    "import xarray as xr\n",
    "import pandas as pd\n",
    "\n",
    "import h5py\n",
    "import scipy.io as sio\n",
    "from scipy import stats\n",
    "import statsmodels as sm # import statsmodels.api as sm\n",
    "from scipy.optimize import minimize, basinhopping, curve_fit\n",
    "from sklearn.model_selection import KFold\n",
    "from tqdm.notebook import tqdm, trange"
   ]
  },
  {
   "cell_type": "code",
   "execution_count": 45,
   "id": "8b71638a-bf39-41e5-a7f5-534150824fd9",
   "metadata": {},
   "outputs": [],
   "source": [
    "## Directories\n",
    "%autoreload\n",
    "import bdanskin as BD \n",
    "\n",
    "project_dir = 'C:\\\\jupyter_notebooks\\\\Danskin_SciAdv_2023' # local directory\n",
    "imaging_dir = pjoin(project_dir, 'hattori_datasets_xarray')\n",
    "cellfits_dir = pjoin(project_dir, 'hattori_datasets_xarray_cellfits')\n",
    "behavior_dir = pjoin(project_dir, 'hattori_datasets_behavior')"
   ]
  },
  {
   "cell_type": "code",
   "execution_count": 46,
   "id": "eb6fb95d-e9fb-4791-a49e-4a173713c58e",
   "metadata": {},
   "outputs": [],
   "source": [
    "%matplotlib inline\n",
    "import matplotlib.pyplot as plt\n",
    "plt.rcParams['svg.fonttype'] = 'none'\n",
    "fig_save_dir = 'ms_figures_230623'"
   ]
  },
  {
   "cell_type": "markdown",
   "id": "fed49bc9-aac4-42c4-ad55-3a32baae72c1",
   "metadata": {},
   "source": [
    "## General plotting functions"
   ]
  },
  {
   "cell_type": "code",
   "execution_count": 47,
   "id": "f45c114c-2b28-49e3-95a1-a40ebd45e15d",
   "metadata": {},
   "outputs": [],
   "source": [
    "plt_colors = BD.plt_color_dir()\n",
    "def sem(y):\n",
    "    if len(np.shape(y))==1:\n",
    "        return np.nanstd(y)/np.sqrt(len(y)-1)\n",
    "    else:\n",
    "        n,_ = np.shape(y)\n",
    "        return np.nanstd(y,0)/np.sqrt(n-1)\n",
    "\n",
    "def plt_remove_spines(ax):\n",
    "    if len(np.shape(ax))>1:\n",
    "        ax_y, ax_x = np.shape(ax)\n",
    "        for xx in range(ax_x):\n",
    "            for yy in range(ax_y):\n",
    "                ax[yy,xx].spines['top'].set_visible(False)\n",
    "                ax[yy,xx].spines['right'].set_visible(False)\n",
    "    else:\n",
    "        for xx in range(len(ax)):\n",
    "            ax[xx].spines['top'].set_visible(False)\n",
    "            ax[xx].spines['right'].set_visible(False)\n",
    "\n",
    "def stats_compare(y):\n",
    "    if np.nanmean(y)>0:\n",
    "        pos_neg = 1\n",
    "    else:\n",
    "        pos_neg = -1\n",
    "        \n",
    "    _,pnorm = stats.normaltest(y)\n",
    "    if pnorm<0.05:\n",
    "        h_norm = 0\n",
    "        _, pval = stats.wilcoxon(y)\n",
    "        print('wilcoxon')\n",
    "    else:\n",
    "        h_norm = 1\n",
    "        _, pval = stats.ttest_1samp(y,0.0)\n",
    "        print('ttest')\n",
    "        \n",
    "    h_lvl = 0\n",
    "    if (pval<0.05) & (pval>=0.01):\n",
    "        h_lvl = 1\n",
    "    elif (pval<0.01) & (pval>=0.001):\n",
    "        h_lvl = 2\n",
    "    elif (pval<0.001) & (pval>=0.0001):\n",
    "        h_lvl = 3\n",
    "    elif (pval<0.0001):\n",
    "        h_lvl = 4\n",
    "    return pval, h_lvl, h_norm, pos_neg\n",
    "\n",
    "def sig_text(pval):\n",
    "    sig_lvl = 0\n",
    "    if (pval<0.05) & (pval>=0.01):\n",
    "        sig_lvl = 1\n",
    "    elif (pval<0.01) & (pval>=0.001):\n",
    "        sig_lvl = 2\n",
    "    elif (pval<0.001) & (pval>=0.0001):\n",
    "        sig_lvl = 3\n",
    "    elif (pval<0.0001):\n",
    "        sig_lvl = 4\n",
    "\n",
    "    if sig_lvl==4:\n",
    "        txt_out = '****'\n",
    "    elif sig_lvl==3:\n",
    "        txt_out = '***'  \n",
    "    elif sig_lvl==2:\n",
    "        txt_out = '**'      \n",
    "    elif sig_lvl==1:\n",
    "        txt_out = '*'\n",
    "    else:\n",
    "        txt_out = 'n.s.'\n",
    "    return txt_out\n",
    "\n",
    "def add_sig_plt(ax,x_ind,y_ind,font_size,pval,sig_lvl,pos_neg):\n",
    "    plt_clr = 'k'\n",
    "    if pos_neg==1:\n",
    "        plt_clr = 'r'\n",
    "        \n",
    "    if sig_lvl==-1:    # catch for mixedeffects that have no sig lvl\n",
    "        sig_lvl = 0\n",
    "        if (pval<0.05) & (pval>=0.01):\n",
    "            sig_lvl = 1\n",
    "        elif (pval<0.01) & (pval>=0.001):\n",
    "            sig_lvl = 2\n",
    "        elif (pval<0.001) & (pval>=0.0001):\n",
    "            sig_lvl = 3\n",
    "        elif (pval<0.0001):\n",
    "            sig_lvl = 4\n",
    "\n",
    "    if sig_lvl==4:\n",
    "        ax.text(x_ind,y_ind,'****',color=plt_clr,fontsize = font_size, transform = ax.transAxes)\n",
    "    if sig_lvl==3:\n",
    "        ax.text(x_ind,y_ind,'***',color=plt_clr,fontsize = font_size, transform = ax.transAxes)  \n",
    "    if sig_lvl==2:\n",
    "        ax.text(x_ind,y_ind,'**',color=plt_clr,fontsize = font_size, transform = ax.transAxes)      \n",
    "    if sig_lvl==1:\n",
    "        ax.text(x_ind,y_ind,'*',color=plt_clr,fontsize = font_size, transform = ax.transAxes)"
   ]
  },
  {
   "cell_type": "markdown",
   "id": "a531d5af-0f51-43dc-9c63-5906b1fcee01",
   "metadata": {},
   "source": [
    "## Specific plotting functions"
   ]
  },
  {
   "cell_type": "markdown",
   "id": "4edd33ef-3fe1-4d3c-8d8f-946c1f2ae771",
   "metadata": {},
   "source": [
    "### Exponential filter functions"
   ]
  },
  {
   "cell_type": "code",
   "execution_count": 48,
   "id": "31122e1d-8a4f-48c3-b764-04613fe6ce60",
   "metadata": {},
   "outputs": [],
   "source": [
    "def beh_exp(x, a, b, c):\n",
    "    return a * np.exp(x/b) - c\n",
    "def beh_hyp(x, a,b, c):\n",
    "    return a/(1-(x)/b) - c\n",
    "def cell_history_activity(trial_activity,a,a_hist):\n",
    "    history_mean_activity = ([np.nanmean(trial_activity[(a_hist[:,-10]==1) & ((a==1)|(a==2))]),\n",
    "                             np.nanmean(trial_activity[(a_hist[:,-9]==1) & ((a==1)|(a==2))]),\n",
    "                             np.nanmean(trial_activity[(a_hist[:,-8]==1) & ((a==1)|(a==2))]),\n",
    "                             np.nanmean(trial_activity[(a_hist[:,-7]==1) & ((a==1)|(a==2))]),\n",
    "                             np.nanmean(trial_activity[(a_hist[:,-6]==1) & ((a==1)|(a==2))]),\n",
    "                             np.nanmean(trial_activity[(a_hist[:,-5]==1) & ((a==1)|(a==2))]),\n",
    "                             np.nanmean(trial_activity[(a_hist[:,-4]==1) & ((a==1)|(a==2))]),\n",
    "                             np.nanmean(trial_activity[(a_hist[:,-3]==1) & ((a==1)|(a==2))]),\n",
    "                             np.nanmean(trial_activity[(a_hist[:,-2]==1) & ((a==1)|(a==2))]),\n",
    "                             np.nanmean(trial_activity[(a_hist[:,-1]==1) & ((a==1)|(a==2))])]\n",
    "                             -np.nanmean(trial_activity[(a==1)|(a==2)]))\n",
    "    history_std_activity = [np.nanstd(trial_activity[(a_hist[:,-10]==1) & ((a==1)|(a==2))])/np.sqrt(sum(a_hist[:,-10]==1)),\n",
    "                            np.nanstd(trial_activity[(a_hist[:,-9]==1) & ((a==1)|(a==2))])/np.sqrt(sum(a_hist[:,-9]==1)),\n",
    "                            np.nanstd(trial_activity[(a_hist[:,-8]==1) & ((a==1)|(a==2))])/np.sqrt(sum(a_hist[:,-8]==1)),\n",
    "                            np.nanstd(trial_activity[(a_hist[:,-7]==1) & ((a==1)|(a==2))])/np.sqrt(sum(a_hist[:,-7]==1)),\n",
    "                            np.nanstd(trial_activity[(a_hist[:,-6]==1) & ((a==1)|(a==2))])/np.sqrt(sum(a_hist[:,-6]==1)),\n",
    "                            np.nanstd(trial_activity[(a_hist[:,-5]==1) & ((a==1)|(a==2))])/np.sqrt(sum(a_hist[:,-5]==1)),\n",
    "                            np.nanstd(trial_activity[(a_hist[:,-4]==1) & ((a==1)|(a==2))])/np.sqrt(sum(a_hist[:,-4]==1)),\n",
    "                            np.nanstd(trial_activity[(a_hist[:,-3]==1) & ((a==1)|(a==2))])/np.sqrt(sum(a_hist[:,-3]==1)),\n",
    "                            np.nanstd(trial_activity[(a_hist[:,-2]==1) & ((a==1)|(a==2))])/np.sqrt(sum(a_hist[:,-2]==1)),\n",
    "                            np.nanstd(trial_activity[(a_hist[:,-1]==1) & ((a==1)|(a==2))])/np.sqrt(sum(a_hist[:,-1]==1))]\n",
    "    return history_mean_activity, history_std_activity\n"
   ]
  },
  {
   "cell_type": "markdown",
   "id": "980833f5-30aa-4147-9b1b-b30e0aa376ea",
   "metadata": {},
   "source": [
    "### Extraction functions"
   ]
  },
  {
   "cell_type": "code",
   "execution_count": 49,
   "id": "409f0d01-8913-4ea1-8a7c-ef3ff969842c",
   "metadata": {},
   "outputs": [],
   "source": [
    "def extract_values(xr, mdl_type, cell_select, param_name):\n",
    "    val_vec = xr.sel(mdl_type=mdl_type,cell=cell_select)[param_name].values\n",
    "    return val_vec"
   ]
  },
  {
   "cell_type": "code",
   "execution_count": 50,
   "id": "d1904197-8508-4f90-b2bb-4d369294f54a",
   "metadata": {},
   "outputs": [],
   "source": [
    "# extraction functions for Rp1 cell selection\n",
    "def parameter_load_session(session, crit_type, mdl_name, param_name): # For each session\n",
    "    # load cv xarray\n",
    "    save_filename = pjoin(cellfits_dir,'ready_cellfits','cv_compare_mdl','sse_{}_15hist.nc'.format(sessions_all[ss]))\n",
    "    cv_xarray = xr.open_dataset(save_filename)\n",
    "\n",
    "    # load havles xarray\n",
    "    save_filename = pjoin(cellfits_dir,'ready_cellfits','halves_compare_mdl','sse_{}_15hist.nc'.format(sessions_all[ss]))\n",
    "    halves_xarray = xr.open_dataset(save_filename)\n",
    "    \n",
    "    # get old Rp1 cell selection\n",
    "    load_filename = pjoin(cellfits_dir,'ready_cellfits_RCp1','RCp1_2s_{}.nc'.format(session))\n",
    "    rp1_xarray = xr.open_dataset(load_filename)\n",
    "    rp1_xarray = rp1_xarray.sel(shuffle=0).drop(labels='shuffle')\n",
    "\n",
    "\n",
    "    if crit_type==0:\n",
    "        cell_select = (rp1_xarray.p_beta_RCp1.values)<0.05\n",
    "    else:\n",
    "        cell_select = get_cell_select(cv_xarray, halves_xarray, crit_type)\n",
    "    \n",
    "    # get parameter of interest\n",
    "    param_sig = halves_xarray.sel(half=0, cell=cell_select, mdl_type=mdl_name)[param_name].values\n",
    "    return param_sig\n",
    "\n",
    "def get_lik_dif_session(session, crit_type, mdl_1, mdl_2): # For each session\n",
    "    param_name = 'cv_mean_norm_loglik'\n",
    "    # load cv xarray\n",
    "    save_filename = pjoin(cellfits_dir,'ready_cellfits','cv_compare_mdl','sse_{}_15hist.nc'.format(sessions_all[ss]))\n",
    "    cv_xarray = xr.open_dataset(save_filename)\n",
    "    \n",
    "    # load havles xarray\n",
    "    save_filename = pjoin(cellfits_dir,'ready_cellfits','halves_compare_mdl','sse_{}_15hist.nc'.format(sessions_all[ss]))\n",
    "    halves_xarray = xr.open_dataset(save_filename)\n",
    "    \n",
    "    # get old Rp1 cell selection\n",
    "    load_filename = pjoin(cellfits_dir,'ready_cellfits_RCp1','RCp1_2s_{}.nc'.format(session))\n",
    "    rp1_xarray = xr.open_dataset(load_filename)\n",
    "    rp1_xarray = rp1_xarray.sel(shuffle=0).drop(labels='shuffle')\n",
    "    \n",
    "    if crit_type==0:\n",
    "        cell_select = (rp1_xarray.p_beta_RCp1.values)<0.05\n",
    "    else:\n",
    "        cell_select = get_cell_select(cv_xarray, halves_xarray, crit_type)\n",
    "    \n",
    "    # get parameter of interest\n",
    "    fit_mdl_1 = cv_xarray.sel(cell=cell_select, mdl_type=mdl_1)[param_name].values\n",
    "    fit_mdl_2 = cv_xarray.sel(cell=cell_select, mdl_type=mdl_2)[param_name].values\n",
    "    return fit_mdl_1 - fit_mdl_2"
   ]
  },
  {
   "cell_type": "code",
   "execution_count": 51,
   "id": "9a577555-9264-4405-b9cd-38a9b65b300d",
   "metadata": {},
   "outputs": [],
   "source": [
    "def get_cell_select(cv_xarray, halves_xarray, crit_type):\n",
    "    ll_thr = 0 # 1e-3\n",
    "    if crit_type==0: # Old Rp1\n",
    "        rp1_p_val_cv = cv_xarray.sel(mdl_type='Rp1')['cv_gmean_p_beta_RC'].values\n",
    "        sig_cell = (rp1_p_val_cv<0.05)\n",
    "    elif crit_type==1: # FDR Rp1\n",
    "        rp1_p_val_cv = cv_xarray.sel(mdl_type='Rp1')['cv_gmean_p_beta_RC'].values\n",
    "        _,fdr_rp1_cv,_,_ = sm.stats.multitest.multipletests(rp1_p_val_cv, alpha=0.05,method='fdr_bh')\n",
    "        sig_cell = (fdr_rp1_cv<0.05)\n",
    "    elif crit_type==2: # Model fit Rp1\n",
    "        rp1_p_val_cv = cv_xarray.sel(mdl_type='Rp1')['cv_gmean_p_beta_RC'].values\n",
    "        rp1_d_null_cv = (cv_xarray.sel(mdl_type='Rp1')['cv_mean_norm_loglik'].values - \n",
    "                         cv_xarray.sel(mdl_type='null')['cv_mean_norm_loglik'].values )\n",
    "        sig_cell = ((rp1_p_val_cv<0.05) & (rp1_d_null_cv>ll_thr))\n",
    "    elif crit_type==3: # AND RC\n",
    "        rc_p_val_1 = halves_xarray.sel(half=1, mdl_type='exp_r')['p_beta_RC'].values\n",
    "        rc_tau_1 = halves_xarray.sel(half=1, mdl_type='exp_r')['tau_RC'].values\n",
    "        rc_p_val_2 = halves_xarray.sel(half=2, mdl_type='exp_r')['p_beta_RC'].values\n",
    "        rc_tau_2 = halves_xarray.sel(half=2, mdl_type='exp_r')['tau_RC'].values\n",
    "        sig_cell = ( (rc_p_val_1<0.05) & (rc_p_val_2<0.05) & \n",
    "                     (rc_tau_1<99) & (rc_tau_1>0.01) & (rc_tau_2<99) & (rc_tau_2>0.01) )\n",
    "    elif crit_type==4: # AND UC\n",
    "        uc_p_val_1 = halves_xarray.sel(half=1, mdl_type='exp_r')['p_beta_UC'].values\n",
    "        uc_tau_1 = halves_xarray.sel(half=1, mdl_type='exp_r')['tau_UC'].values\n",
    "        uc_p_val_2 = halves_xarray.sel(half=2, mdl_type='exp_r')['p_beta_UC'].values\n",
    "        uc_tau_2 = halves_xarray.sel(half=2, mdl_type='exp_r')['tau_UC'].values\n",
    "        sig_cell = ( (uc_p_val_1<0.05) & (uc_p_val_2<0.05) & \n",
    "                     (uc_tau_1<99) & (uc_tau_1>0.01) & (uc_tau_2<99) & (uc_tau_2>0.01) )\n",
    "    elif crit_type==5: # Model fit RC\n",
    "        rc_p_val_cv = cv_xarray.sel(mdl_type='exp_r')['cv_gmean_p_beta_RC'].values\n",
    "        _,fdr_rc_cv,_,_ = sm.stats.multitest.multipletests(rc_p_val_cv, alpha=0.05,method='fdr_bh')\n",
    "        ru_d_null_cv = (cv_xarray.sel(mdl_type='exp_r')['cv_mean_norm_loglik'].values - \n",
    "                         cv_xarray.sel(mdl_type='null')['cv_mean_norm_loglik'].values )\n",
    "        rc_tau_0 = halves_xarray.sel(half=0, mdl_type='exp_r')['tau_RC'].values\n",
    "        sig_cell = ( (ru_d_null_cv>ll_thr) & (fdr_rc_cv<0.05) &\n",
    "                     (rc_tau_0<99) & (rc_tau_0>0.01) )\n",
    "    elif crit_type==6: # Model fit UC\n",
    "        uc_p_val_cv = cv_xarray.sel(mdl_type='exp_r')['cv_gmean_p_beta_UC'].values\n",
    "        _,fdr_uc_cv,_,_ = sm.stats.multitest.multipletests(uc_p_val_cv, alpha=0.05,method='fdr_bh')\n",
    "        uc_d_null_cv = (cv_xarray.sel(mdl_type='exp_r')['cv_mean_norm_loglik'].values - \n",
    "                         cv_xarray.sel(mdl_type='null')['cv_mean_norm_loglik'].values )\n",
    "        uc_tau_0 = halves_xarray.sel(half=0, mdl_type='exp_r')['tau_RC'].values\n",
    "        sig_cell = ( (uc_d_null_cv>ll_thr) & (fdr_uc_cv<0.05) &\n",
    "                     (uc_tau_0<99) & (uc_tau_0>0.01) )\n",
    "    elif crit_type==7: # AND RC, UC\n",
    "        rc_p_val_1 = halves_xarray.sel(half=1, mdl_type='exp_r')['p_beta_RC'].values\n",
    "        rc_tau_1 = halves_xarray.sel(half=1, mdl_type='exp_r')['tau_RC'].values\n",
    "        rc_p_val_2 = halves_xarray.sel(half=2, mdl_type='exp_r')['p_beta_RC'].values\n",
    "        rc_tau_2 = halves_xarray.sel(half=2, mdl_type='exp_r')['tau_RC'].values\n",
    "\n",
    "        uc_p_val_1 = halves_xarray.sel(half=1, mdl_type='exp_r')['p_beta_UC'].values\n",
    "        uc_tau_1 = halves_xarray.sel(half=1, mdl_type='exp_r')['tau_UC'].values\n",
    "        uc_p_val_2 = halves_xarray.sel(half=2, mdl_type='exp_r')['p_beta_UC'].values\n",
    "        uc_tau_2 = halves_xarray.sel(half=2, mdl_type='exp_r')['tau_UC'].values\n",
    "        sig_cell = ( (rc_p_val_1<0.05) & (rc_p_val_2<0.05) & (uc_p_val_1<0.05) & (uc_p_val_2<0.05) & \n",
    "                     (rc_tau_1<99) & (rc_tau_1>0.01) & (rc_tau_2<99) & (rc_tau_2>0.01)  &\n",
    "                     (uc_tau_1<99) & (uc_tau_1>0.01) & (uc_tau_2<99) & (uc_tau_2>0.01) )\n",
    "        \n",
    "    elif crit_type==8: # Model fit RC, UC\n",
    "        rc_p_val_cv = cv_xarray.sel(mdl_type='exp_r')['cv_gmean_p_beta_RC'].values\n",
    "        uc_p_val_cv = cv_xarray.sel(mdl_type='exp_r')['cv_gmean_p_beta_UC'].values\n",
    "        _,fdr_rc_cv,_,_ = sm.stats.multitest.multipletests(rc_p_val_cv, alpha=0.05,method='fdr_bh')\n",
    "        _,fdr_uc_cv,_,_ = sm.stats.multitest.multipletests(uc_p_val_cv, alpha=0.05,method='fdr_bh')\n",
    "        \n",
    "        ru_d_null_cv = (cv_xarray.sel(mdl_type='exp_r')['cv_mean_norm_loglik'].values - \n",
    "                         cv_xarray.sel(mdl_type='null')['cv_mean_norm_loglik'].values )\n",
    "        sig_cell = (ru_d_null_cv>ll_thr) & ((fdr_rc_cv<0.05) | (fdr_uc_cv<0.05))\n",
    "    else:\n",
    "        sig_cell = np.ones(len(halves_xarray.cell)).astype(bool)\n",
    "        \n",
    "    return sig_cell    "
   ]
  },
  {
   "cell_type": "code",
   "execution_count": 52,
   "id": "26c6fcfb-e7ff-4408-b3e9-ebf91b0256f8",
   "metadata": {},
   "outputs": [],
   "source": [
    "def get_sessions_pd(area, crit_type):\n",
    "    mdl_name = 'exp_r'\n",
    "    # param_name = 'tau_RC' # 'tau_UC'\n",
    "    sessions_all = BD.get_sessions(area)\n",
    "    output_all = pd.DataFrame([])\n",
    "    for session in sessions_all:\n",
    "        # load cv xarray\n",
    "        load_filename = pjoin(cellfits_dir,'ready_cellfits','cv_compare_mdl','sse_{}_15hist.nc'.format(session))\n",
    "        cv_xarray = xr.open_dataset(load_filename)\n",
    "\n",
    "        # load havles xarray\n",
    "        load_filename = pjoin(cellfits_dir,'ready_cellfits','halves_compare_mdl','sse_{}_15hist.nc'.format(session))\n",
    "        halves_xarray = xr.open_dataset(load_filename)\n",
    "\n",
    "        cell_select = get_cell_select(cv_xarray, halves_xarray, crit_type)\n",
    "        \n",
    "        if sum(cell_select)>0:\n",
    "            # get parameter of interest\n",
    "            processed_xarray = halves_xarray.sel(half=0, cell=cell_select, mdl_type=mdl_name)\n",
    "            out_pd = processed_xarray.to_dataframe()[['snr','beta_RC','tau_RC','beta_UC','tau_UC','p_beta_RC','p_beta_UC']]\n",
    "\n",
    "            output_all = output_all.append(out_pd,ignore_index=True)\n",
    "    return output_all"
   ]
  },
  {
   "cell_type": "markdown",
   "id": "62d3a354-f23d-480b-86fc-9c54098416fc",
   "metadata": {},
   "source": [
    "### Cell fraction, correlation"
   ]
  },
  {
   "cell_type": "code",
   "execution_count": 53,
   "id": "692ca588-ed77-4167-ab79-2c4d93649023",
   "metadata": {},
   "outputs": [],
   "source": [
    "def calc_cell_frac(area, crit_type):\n",
    "    sessions_all = BD.get_sessions(area)\n",
    "    cell_frac = np.array([])\n",
    "    for ss in range(len(sessions_all)):\n",
    "        # load cv xarray\n",
    "        save_filename = pjoin(cellfits_dir,'ready_cellfits','cv_compare_mdl','sse_{}_15hist.nc'.format(sessions_all[ss]))\n",
    "        cv_xarray = xr.open_dataset(save_filename)\n",
    "\n",
    "        # load havles xarray\n",
    "        save_filename = pjoin(cellfits_dir,'ready_cellfits','halves_compare_mdl','sse_{}_15hist.nc'.format(sessions_all[ss]))\n",
    "        halves_xarray = xr.open_dataset(save_filename)\n",
    "\n",
    "        cell_select = get_cell_select(cv_xarray, halves_xarray, crit_type)\n",
    "        cell_frac = np.append(cell_frac, np.mean(cell_select))\n",
    "    return cell_frac\n"
   ]
  },
  {
   "cell_type": "code",
   "execution_count": 54,
   "id": "d90e49c2-1840-47fa-89af-5ca444fb0a06",
   "metadata": {},
   "outputs": [],
   "source": [
    "def calc_shuffle_correlation(partition_xarray,half_1,half_2):\n",
    "    ds_1 = partition_xarray.sel(half=half_1)\n",
    "    ds_2 = partition_xarray.sel(half=half_2)\n",
    "    bool_to_use = ((ds_1.tau_RC<99) & (ds_1.tau_RC>0.1) &\n",
    "                   (ds_2.tau_RC<99) & (ds_2.tau_RC>0.1) )\n",
    "    cell_dif = abs(ds_2.tau_RC - ds_1.tau_RC)/(ds_2.tau_RC + ds_1.tau_RC)\n",
    "    \n",
    "    val_1 = ds_1.isel(cell=bool_to_use).tau_RC.values\n",
    "    val_2 = ds_2.isel(cell=bool_to_use).tau_RC.values\n",
    "    rho,pval = stats.spearmanr(val_1,val_2)\n",
    "    if pval==0: # quick catch\n",
    "        pval=1e-8\n",
    "    return rho, pval\n",
    "\n",
    "def calc_cell_correlation(area, crit_type, param_name):\n",
    "    sessions_all = BD.get_sessions(area)\n",
    "    rho_all = np.array([])\n",
    "    p_all = np.array([])\n",
    "    for ss in range(len(sessions_all)):\n",
    "        # load cv xarray\n",
    "        save_filename = pjoin(cellfits_dir,'ready_cellfits','cv_compare_mdl','sse_{}_15hist.nc'.format(sessions_all[ss]))\n",
    "        cv_xarray = xr.open_dataset(save_filename)\n",
    "\n",
    "        # load havles xarray\n",
    "        save_filename = pjoin(cellfits_dir,'ready_cellfits','halves_compare_mdl','sse_{}_15hist.nc'.format(sessions_all[ss]))\n",
    "        halves_xarray = xr.open_dataset(save_filename)\n",
    "\n",
    "        cell_select = get_cell_select(cv_xarray, halves_xarray, crit_type)\n",
    "        if sum(cell_select)>10:\n",
    "            tau_1 = halves_xarray.sel(half=1, mdl_type='exp_r', cell=cell_select)[param_name].values\n",
    "            tau_2 = halves_xarray.sel(half=2, mdl_type='exp_r', cell=cell_select)[param_name].values\n",
    "            val_1 = tau_1[(tau_1>0.1) & (tau_1<99) & (tau_2>0.1) & (tau_2<99)]\n",
    "            val_2 = tau_2[(tau_1>0.1) & (tau_1<99) & (tau_2>0.1) & (tau_2<99)]\n",
    "\n",
    "            rho,pval = stats.spearmanr(val_1,val_2)\n",
    "            if pval==0: # quick catch\n",
    "                pval=1e-8\n",
    "            if rho>-.1:\n",
    "                rho_all = np.append(rho_all, rho)\n",
    "                p_all = np.append(p_all, pval)\n",
    "    return rho_all, p_all"
   ]
  },
  {
   "cell_type": "markdown",
   "id": "e3d1efcd-94fd-489b-9fcb-56b36b60c4c2",
   "metadata": {},
   "source": [
    "### Bootstrap stats"
   ]
  },
  {
   "cell_type": "code",
   "execution_count": 55,
   "id": "c81a120d-39eb-4f57-84b1-507afb8eaba3",
   "metadata": {},
   "outputs": [],
   "source": [
    "def bootstrap_medians(null_dist,n_samples,n_iter,rng_seed):\n",
    "    np.random.seed(rng_seed)\n",
    "    null_medians = np.zeros(n_iter)\n",
    "    for nn in range(n_iter):\n",
    "        sampled_tau = np.random.choice(null_dist,n_samples)\n",
    "        null_medians[nn] = np.median(sampled_tau)\n",
    "    return null_medians"
   ]
  },
  {
   "cell_type": "markdown",
   "id": "1eadc7a7-66c4-4ff1-9d35-4b53ec1efb62",
   "metadata": {},
   "source": [
    "#### quasi-hyperbolic"
   ]
  },
  {
   "cell_type": "code",
   "execution_count": 56,
   "id": "0f262794-7331-409b-b95b-c3f576642bdb",
   "metadata": {},
   "outputs": [],
   "source": [
    "def exp_single(x, a, b):\n",
    "    return a * np.exp(x/b)\n",
    "def hyper(x, a,b):\n",
    "    return a/(1-(x)/b)"
   ]
  },
  {
   "cell_type": "markdown",
   "id": "41b3a2a5-a43d-4741-95af-e5b649d7701f",
   "metadata": {},
   "source": [
    "### box plots"
   ]
  },
  {
   "cell_type": "code",
   "execution_count": 57,
   "id": "1816a420-0258-406b-9d8a-a5ff0b125268",
   "metadata": {},
   "outputs": [],
   "source": [
    "def plot_colored_boxplot(ax,data_vec,x_pos,tmp_c):\n",
    "    ax.boxplot(data_vec, positions=[x_pos], widths=.4, notch=False, showfliers=False,\n",
    "           patch_artist=True,\n",
    "           boxprops=dict(facecolor='none',color=tmp_c,linewidth=1.5),\n",
    "           capprops=dict(color=tmp_c,linewidth=1.5),\n",
    "           whiskerprops=dict(color=tmp_c,linewidth=1.5),\n",
    "           medianprops=dict(color=tmp_c,linewidth=1.5),\n",
    "            )\n",
    "def plot_bxplt(ax, y, x, clr):\n",
    "    ax.boxplot([y], positions=[x], widths=0.35, notch=False,showfliers=False,\n",
    "               patch_artist=True,\n",
    "               boxprops=dict(facecolor='none',color=clr,linewidth=1.0),\n",
    "               capprops=dict(color=clr,linewidth=1.0),\n",
    "               whiskerprops=dict(color=clr,linewidth=1.0),\n",
    "               medianprops=dict(color=clr,linewidth=1.0))"
   ]
  },
  {
   "cell_type": "markdown",
   "id": "a42bd533-9700-4d9a-971a-9f33b93fa63d",
   "metadata": {},
   "source": [
    "## Example cell filters"
   ]
  },
  {
   "cell_type": "code",
   "execution_count": 63,
   "id": "6e87b38f-0f69-4298-a720-e5bf9251139b",
   "metadata": {},
   "outputs": [],
   "source": [
    "sessions_all = BD.get_sessions('all')\n",
    "ss = 10\n",
    "ds_2s = xr.open_dataset(pjoin(imaging_dir,'preprocess_data_2s//{}_ready_2s.nc'.format(sessions_all[ss])))\n",
    "\n",
    "a = np.array(ds_2s.a)\n",
    "R = np.array(ds_2s.R)\n",
    "n_back = 10\n",
    "# Choice metrics\n",
    "choice_trials = (a==1)|(a==2)\n",
    "a_hist,R_hist,_ = BD.prepare_hist_matrix(a,R,n_back)\n",
    "rc_hist = a_hist*R_hist"
   ]
  },
  {
   "cell_type": "code",
   "execution_count": 64,
   "id": "3469770d-1399-4dbc-8705-2563fd699084",
   "metadata": {
    "tags": []
   },
   "outputs": [],
   "source": [
    "save_filename = pjoin(cellfits_dir,'ready_cellfits','halves_compare_mdl','sse_{}_15hist.nc'.format(sessions_all[ss]))\n",
    "halves_xarray = xr.open_dataset(save_filename)\n",
    "\n",
    "regression_xarray = halves_xarray.sel(half=0, mdl_type='exp_r')\n",
    "output_pd = regression_xarray.to_dataframe()[['p_beta_RC','beta_RC','tau_RC','beta_C0']]\n",
    "# output_pd"
   ]
  },
  {
   "cell_type": "markdown",
   "id": "f005635c-ad62-42af-b3b4-904a9a7be56d",
   "metadata": {},
   "source": [
    "### [Plt] Example filter 1"
   ]
  },
  {
   "cell_type": "code",
   "execution_count": 65,
   "id": "3ffa630a-c686-4d04-9c85-8e7d0755a31c",
   "metadata": {},
   "outputs": [
    {
     "name": "stdout",
     "output_type": "stream",
     "text": [
      "0.8104127401606954 -0.08171678607374375 1.718889988099806e-09\n"
     ]
    },
    {
     "data": {
      "image/png": "[encoded data removed]",
      "text/plain": [
       "<Figure size 350x200 with 2 Axes>"
      ]
     },
     "metadata": {},
     "output_type": "display_data"
    }
   ],
   "source": [
    "cell_id = 417; secondary_ylim = [-1.2,.5]; title_txt = 'Example cell 1'\n",
    "f,ax = plt.subplots(1,1, figsize = [3.5,2.0], tight_layout=False)\n",
    "x_ind = np.flip(-np.arange(0,10))\n",
    "\n",
    "exp_tau = output_pd.iloc[cell_id]['tau_RC']\n",
    "exp_beta = output_pd.iloc[cell_id]['beta_RC']\n",
    "p_exp_beta = output_pd.iloc[cell_id]['p_beta_RC']\n",
    "exp_c = output_pd.iloc[cell_id]['beta_C0']\n",
    "# exp_fit_y = beh_exp(x_ind, exp_beta, exp_tau, exp_c)\n",
    "if exp_beta>0:\n",
    "    exp_fit_y = beh_exp(x_ind, 1, exp_tau, 0)\n",
    "else: \n",
    "    exp_fit_y = beh_exp(x_ind, -1, exp_tau, 0)\n",
    "\n",
    "neuron_activity = np.array(ds_2s.isel(cell=cell_id).spks)\n",
    "history_mean, history_std = cell_history_activity(neuron_activity,a,a_hist)\n",
    "\n",
    "ax.plot([-11,0],[0,0],'-',color=[.5,.5,.5],linewidth=1,label='_nolegend_')\n",
    "ax.errorbar(np.arange(-10,0), history_mean, yerr=history_std,\n",
    "             fmt='.k',linestyle='none',capsize=5,alpha=1)\n",
    "ax.set_xlim([-11,0])\n",
    "ax.set_xticks([-1,-5,-10])\n",
    "ax.set_ylabel('D Activity (L-R)',fontsize=12)\n",
    "ax.set_xlabel('Past trial',fontsize=12)\n",
    "ax.set_title(title_txt, fontsize=12)\n",
    "ax.text(.25,.25,'T={0:.2f}'.format(exp_tau), fontsize=11, color=[0,.5,0], transform = ax.transAxes)\n",
    "ax.spines['top'].set_visible(False); ax.spines['right'].set_visible(False)\n",
    "\n",
    "ax2 = ax.twinx()\n",
    "# ax2.plot([-11,0],[0,0],'--k',linewidth=1,label='_nolegend_')\n",
    "ax2.plot(np.arange(-10,0),exp_fit_y,'-',color=plt_colors['exp'])\n",
    "ax2.set_ylim(secondary_ylim)\n",
    "ax2.set_ylabel('Exp. filter',fontsize=12)\n",
    "# ax2.spines['top'].set_visible(False); ax2.spines['right'].set_visible(False)\n",
    "ax2.axis('off')\n",
    "\n",
    "f.subplots_adjust(left=.3, bottom=.22, right=None, top=None, wspace=None, hspace=None)\n",
    "ax.legend(['Ready-period activity'],loc='upper left', \n",
    "          fontsize=11, frameon=False, bbox_to_anchor = (-.07,1.5))\n",
    "ax2.legend(['Exponential filter'.format(exp_tau,exp_beta)], loc='upper left',\n",
    "           fontsize=11, frameon=False, bbox_to_anchor = (-.07,1.7))\n",
    "print(exp_tau, exp_beta, p_exp_beta)\n",
    "# f.savefig(pjoin(fig_save_dir,'3_tau','cell_filter_example_{}.png'.format(cell_id)))\n",
    "# f.savefig(pjoin(fig_save_dir,'3_tau','cell_filter_example_{}.svg'.format(cell_id)))"
   ]
  },
  {
   "cell_type": "markdown",
   "id": "fba912c3-68be-46cb-839c-3f3e90bf8bb6",
   "metadata": {},
   "source": [
    "### [Plt] Example filter 2"
   ]
  },
  {
   "cell_type": "code",
   "execution_count": 66,
   "id": "4fc3fce4-8362-4b0f-b656-8a81e8afa201",
   "metadata": {},
   "outputs": [
    {
     "name": "stdout",
     "output_type": "stream",
     "text": [
      "1.4512661989032727 0.11532053890678781 2.4582923496309715e-08\n"
     ]
    },
    {
     "data": {
      "image/png": "[encoded data removed]",
      "text/plain": [
       "<Figure size 350x200 with 2 Axes>"
      ]
     },
     "metadata": {},
     "output_type": "display_data"
    }
   ],
   "source": [
    "cell_id = 122; secondary_ylim = [-.34,1.2]; title_txt = 'Example cell 2'\n",
    "f,ax = plt.subplots(1,1, figsize = [3.5,2.0], tight_layout=False)\n",
    "x_ind = np.flip(-np.arange(0,10))\n",
    "\n",
    "exp_tau = output_pd.iloc[cell_id]['tau_RC']\n",
    "exp_beta = output_pd.iloc[cell_id]['beta_RC']\n",
    "p_exp_beta = output_pd.iloc[cell_id]['p_beta_RC']\n",
    "exp_c = output_pd.iloc[cell_id]['beta_C0']\n",
    "# exp_fit_y = beh_exp(x_ind, exp_beta, exp_tau, exp_c)\n",
    "if exp_beta>0:\n",
    "    exp_fit_y = beh_exp(x_ind, 1, exp_tau, 0)\n",
    "else: \n",
    "    exp_fit_y = beh_exp(x_ind, -1, exp_tau, 0)\n",
    "\n",
    "neuron_activity = np.array(ds_2s.isel(cell=cell_id).spks)\n",
    "history_mean, history_std = cell_history_activity(neuron_activity,a,a_hist)\n",
    "\n",
    "ax.plot([-11,0],[0,0],'-',color=[.5,.5,.5],linewidth=1,label='_nolegend_')\n",
    "ax.errorbar(np.arange(-10,0), history_mean, yerr=history_std,\n",
    "             fmt='.k',linestyle='none',capsize=5,alpha=1)\n",
    "ax.set_xlim([-11,0])\n",
    "ax.set_xticks([-1,-5,-10])\n",
    "ax.set_ylabel('D Activity (L-R)',fontsize=12)\n",
    "ax.set_xlabel('Past trial',fontsize=12)\n",
    "ax.set_title(title_txt, fontsize=12)\n",
    "ax.text(.25,.8,'T={0:.2f}'.format(exp_tau), fontsize=11, color=[0,.5,0], transform = ax.transAxes)\n",
    "ax.spines['top'].set_visible(False); ax.spines['right'].set_visible(False)\n",
    "\n",
    "ax2 = ax.twinx()\n",
    "# ax2.plot([-11,0],[0,0],'--k',linewidth=1,label='_nolegend_')\n",
    "ax2.plot(np.arange(-10,0),exp_fit_y,'-',color=plt_colors['exp'])\n",
    "ax2.set_ylim(secondary_ylim)\n",
    "ax2.set_ylabel('Exp. filter',fontsize=12)\n",
    "ax2.axis('off')\n",
    "\n",
    "f.subplots_adjust(left=.3, bottom=.22, right=None, top=None, wspace=None, hspace=None)\n",
    "ax.legend(['Ready-period activity'],loc='upper left', \n",
    "          fontsize=11, frameon=False, bbox_to_anchor = (-.07,1.5))\n",
    "ax2.legend(['Exponential filter'.format(exp_tau,exp_beta)], loc='upper left',\n",
    "           fontsize=11, frameon=False, bbox_to_anchor = (-.07,1.7))\n",
    "print(exp_tau, exp_beta, p_exp_beta)\n",
    "# f.savefig(pjoin(fig_save_dir,'3_tau','cell_filter_example_{}.png'.format(cell_id)))\n",
    "# f.savefig(pjoin(fig_save_dir,'3_tau','cell_filter_example_{}.svg'.format(cell_id)))"
   ]
  },
  {
   "cell_type": "markdown",
   "id": "a3a7c324-009d-4d10-b893-06beade73534",
   "metadata": {},
   "source": [
    "### [Plt] Example filter 3"
   ]
  },
  {
   "cell_type": "code",
   "execution_count": 67,
   "id": "74e722e3-39b5-4e79-bf08-9a214cb5cefb",
   "metadata": {},
   "outputs": [
    {
     "name": "stdout",
     "output_type": "stream",
     "text": [
      "4.3527489729294055 -0.1824437102919831 9.475553398135658e-10\n"
     ]
    },
    {
     "data": {
      "image/png": "[encoded data removed]",
      "text/plain": [
       "<Figure size 350x200 with 2 Axes>"
      ]
     },
     "metadata": {},
     "output_type": "display_data"
    }
   ],
   "source": [
    "# cell_id = 133; secondary_ylim = [-1.5,.5]; title_txt = 'Example cell 3'\n",
    "cell_id = 133; secondary_ylim = [-1.5,.55]; title_txt = 'Example cell 3'\n",
    "f,ax = plt.subplots(1,1, figsize = [3.5,2.0], tight_layout=False)\n",
    "x_ind = np.flip(-np.arange(0,10))\n",
    "\n",
    "exp_tau = output_pd.iloc[cell_id]['tau_RC']\n",
    "exp_beta = output_pd.iloc[cell_id]['beta_RC']\n",
    "p_exp_beta = output_pd.iloc[cell_id]['p_beta_RC']\n",
    "exp_c = output_pd.iloc[cell_id]['beta_C0']\n",
    "# exp_fit_y = beh_exp(x_ind, exp_beta, exp_tau, exp_c)\n",
    "if exp_beta>0:\n",
    "    exp_fit_y = beh_exp(x_ind, 1, exp_tau, 0)\n",
    "else: \n",
    "    exp_fit_y = beh_exp(x_ind, -1, exp_tau, 0)\n",
    "\n",
    "neuron_activity = np.array(ds_2s.isel(cell=cell_id).spks)\n",
    "history_mean, history_std = cell_history_activity(neuron_activity,a,a_hist)\n",
    "history_mean = history_mean+.021\n",
    "exp_fit_y = exp_fit_y+.05\n",
    "\n",
    "ax.plot([-11,0],[0,0],'-',color=[.5,.5,.5],linewidth=1,label='_nolegend_')\n",
    "ax.errorbar(np.arange(-10,0), history_mean, yerr=history_std,\n",
    "             fmt='.k',linestyle='none',capsize=5,alpha=1)\n",
    "ax.set_xlim([-11,0])\n",
    "ax.set_xticks([-1,-5,-10])\n",
    "ax.set_ylabel('D Activity (L-R)',fontsize=12)\n",
    "ax.set_xlabel('Past trial',fontsize=12)\n",
    "ax.set_title(title_txt, fontsize=12)\n",
    "ax.text(.25,.15,'T={0:.2f}'.format(exp_tau), fontsize=11, color=[0,.5,0], transform = ax.transAxes)\n",
    "ax.spines['top'].set_visible(False); ax.spines['right'].set_visible(False)\n",
    "\n",
    "ax2 = ax.twinx()\n",
    "# ax2.plot([-11,0],[0,0],'--k',linewidth=1,label='_nolegend_')\n",
    "ax2.plot(np.arange(-10,0),exp_fit_y,'-',color=plt_colors['exp'])\n",
    "ax2.set_ylim(secondary_ylim)\n",
    "ax2.set_ylabel('Exp. filter',fontsize=12)\n",
    "ax2.axis('off')\n",
    "\n",
    "f.subplots_adjust(left=.3, bottom=.22, right=None, top=None, wspace=None, hspace=None)\n",
    "ax.legend(['Ready-period activity'],loc='upper left', \n",
    "          fontsize=11, frameon=False, bbox_to_anchor = (-.07,1.5))\n",
    "ax2.legend(['Exponential filter'.format(exp_tau,exp_beta)], loc='upper left',\n",
    "           fontsize=11, frameon=False, bbox_to_anchor = (-.07,1.7))\n",
    "print(exp_tau, exp_beta, p_exp_beta)\n",
    "# f.savefig(pjoin(fig_save_dir,'3_tau','cell_filter_example_{}.png'.format(cell_id)))\n",
    "# f.savefig(pjoin(fig_save_dir,'3_tau','cell_filter_example_{}.svg'.format(cell_id)))"
   ]
  },
  {
   "cell_type": "markdown",
   "id": "8a16597b-2823-4a3f-90d0-93c3eb0ed8dc",
   "metadata": {},
   "source": [
    "## Exponential cell fraction"
   ]
  },
  {
   "cell_type": "code",
   "execution_count": 58,
   "id": "c6a6dfd2-7357-40b2-b8c2-b5c402bfa6a0",
   "metadata": {},
   "outputs": [],
   "source": [
    "crit_type = 0\n",
    "rsc_cf = calc_cell_frac('RSC', crit_type)\n",
    "ppc_cf = calc_cell_frac('PPC', crit_type)\n",
    "m2_cf = calc_cell_frac('M2', crit_type)\n",
    "alm_cf = calc_cell_frac('ALM', crit_type)\n",
    "s1_cf = calc_cell_frac('S1', crit_type)\n",
    "cf_rp1_mean = np.array([np.mean(rsc_cf), np.mean(ppc_cf), np.mean(m2_cf), \n",
    "                    np.mean(alm_cf), np.mean(s1_cf)])\n",
    "cf_rp1_sem = np.array([sem(rsc_cf), sem(ppc_cf), sem(m2_cf),\n",
    "                   sem(alm_cf), sem(s1_cf)])\n",
    "\n",
    "crit_type = 3\n",
    "rsc_cf = calc_cell_frac('RSC', crit_type)\n",
    "ppc_cf = calc_cell_frac('PPC', crit_type)\n",
    "m2_cf = calc_cell_frac('M2', crit_type)\n",
    "alm_cf = calc_cell_frac('ALM', crit_type)\n",
    "s1_cf = calc_cell_frac('S1', crit_type)\n",
    "cf_mean = np.array([np.mean(rsc_cf), np.mean(ppc_cf), np.mean(m2_cf), \n",
    "                    np.mean(alm_cf), np.mean(s1_cf)])\n",
    "cf_sem = np.array([sem(rsc_cf), sem(ppc_cf), sem(m2_cf),\n",
    "                   sem(alm_cf), sem(s1_cf)])"
   ]
  },
  {
   "cell_type": "code",
   "execution_count": 59,
   "id": "d9c98f2e-e323-4b6f-a34d-12a9f505e58c",
   "metadata": {},
   "outputs": [
    {
     "name": "stdout",
     "output_type": "stream",
     "text": [
      "2-sample independent ttest\n",
      "RSC to PPC: 0.41\n",
      "RSC to M2: 2.86e-03\n",
      "RSC to ALM: 4.35e-03\n",
      "RSC to S1: 1.08e-03\n"
     ]
    }
   ],
   "source": [
    "print('2-sample independent ttest')\n",
    "_,pval_ppc = stats.ttest_ind(rsc_cf,ppc_cf)\n",
    "print('RSC to PPC: {0:.2f}'.format(pval_ppc))\n",
    "_,pval_m2 = stats.ttest_ind(rsc_cf,m2_cf)\n",
    "print('RSC to M2: {0:.2e}'.format(pval_m2))\n",
    "_,pval_alm = stats.ttest_ind(rsc_cf,alm_cf)\n",
    "print('RSC to ALM: {0:.2e}'.format(pval_alm))\n",
    "_,pval_s1 = stats.ttest_ind(rsc_cf,s1_cf)\n",
    "print('RSC to S1: {0:.2e}'.format(pval_s1))"
   ]
  },
  {
   "cell_type": "markdown",
   "id": "e952b53a-7971-466e-9ee5-fac929e7f588",
   "metadata": {},
   "source": [
    "### [Plt] cell fractions across areas"
   ]
  },
  {
   "cell_type": "code",
   "execution_count": 60,
   "id": "7517fe89-0b13-4ec4-a1ca-8e1f13dac89d",
   "metadata": {},
   "outputs": [
    {
     "data": {
      "image/png": "[encoded data removed]",
      "text/plain": [
       "<Figure size 350x250 with 1 Axes>"
      ]
     },
     "metadata": {},
     "output_type": "display_data"
    }
   ],
   "source": [
    "f,ax = plt.subplots(1,1, figsize = [3.5,2.5], tight_layout=False)\n",
    "y_lim = 0.4 # 0.25\n",
    "\n",
    "sh_mean = 0.01\n",
    "x_ind = [1,2,3,4,5]\n",
    "ax.bar(x_ind[0],cf_rp1_mean[0],0.55,facecolor='w',edgecolor=plt_colors['RSC'],linewidth=1.5, alpha=0.35)\n",
    "ax.bar(x_ind[1],cf_rp1_mean[1],0.55,facecolor='w',edgecolor=plt_colors['PPC'],linewidth=1.5, alpha=0.35)\n",
    "ax.bar(x_ind[2],cf_rp1_mean[2],0.55,facecolor='w',edgecolor=plt_colors['M2'],linewidth=1.5, alpha=0.35)\n",
    "ax.bar(x_ind[3],cf_rp1_mean[3],0.55,facecolor='w',edgecolor=plt_colors['ALM'],linewidth=1.5, alpha=0.35)\n",
    "ax.bar(x_ind[4],cf_rp1_mean[4],0.55,facecolor='w',edgecolor=plt_colors['S1'],linewidth=1.5, alpha=0.35)\n",
    "\n",
    "ax.bar(x_ind[0],cf_mean[0],0.55,facecolor=plt_colors['RSC'],edgecolor=plt_colors['RSC'],linewidth=1.5)\n",
    "ax.bar(x_ind[1],cf_mean[1],0.55,facecolor=plt_colors['PPC'],edgecolor=plt_colors['PPC'],linewidth=1.5)\n",
    "ax.bar(x_ind[2],cf_mean[2],0.55,facecolor=plt_colors['M2'],edgecolor=plt_colors['M2'],linewidth=1.5)\n",
    "ax.bar(x_ind[3],cf_mean[3],0.55,facecolor=plt_colors['ALM'],edgecolor=plt_colors['ALM'],linewidth=1.5)\n",
    "ax.bar(x_ind[4],cf_mean[4],0.55,facecolor=plt_colors['S1'],edgecolor=plt_colors['S1'],linewidth=1.5)\n",
    "ax.errorbar(x_ind,cf_mean,cf_sem,linestyle='none',c='k',capsize=5)\n",
    "ax.fill_between([0,8],[sh_mean,sh_mean],[0,0],facecolor='grey',alpha=0.5)\n",
    "\n",
    "ax.plot(np.linspace(x_ind[0]-.15,x_ind[0]+.15,len(rsc_cf)), rsc_cf, '.',\n",
    "        c='grey', ms=3, alpha=1)\n",
    "ax.plot(np.linspace(x_ind[1]-.15,x_ind[1]+.15,len(ppc_cf)), ppc_cf, '.',\n",
    "       c='grey', ms=3, alpha=1)\n",
    "ax.plot(np.linspace(x_ind[2]-.15,x_ind[2]+.15,len(m2_cf)), m2_cf, '.',\n",
    "        c='grey', ms=3, alpha=1)\n",
    "ax.plot(np.linspace(x_ind[3]-.15,x_ind[3]+.15,len(alm_cf)), alm_cf, '.',\n",
    "        c='grey', ms=3, alpha=1)\n",
    "ax.plot(np.linspace(x_ind[4]-.15,x_ind[4]+.15,len(s1_cf)), s1_cf, '.',\n",
    "        c='grey', ms=3, alpha=1)\n",
    "\n",
    "ax.text(x_ind[1]-.2,.35,sig_text(pval_ppc),fontsize=10)\n",
    "ax.text(x_ind[2]-.1,.35,sig_text(pval_m2),fontsize=10)\n",
    "ax.text(x_ind[3]-.1,.35,sig_text(pval_alm),fontsize=10)\n",
    "ax.text(x_ind[4]-.1,.35,sig_text(pval_s1),fontsize=10)\n",
    "\n",
    "ax.set_ylim([0,y_lim])\n",
    "ax.set_xlim([.5,5.5])\n",
    "ax.set_ylabel('Fraction of cells',fontsize=12)\n",
    "ax.set_title('Modulated by exp(RewC)',fontsize=12)\n",
    "# ax.set_title('Modulated by exp(UnrC)',fontsize=12)\n",
    "ax.set_xticks([1,2,3,4,5])\n",
    "ax.set_xticklabels(['RSC','PPC','pM2','ALM','S1'],fontsize=12)#rotation=45)\n",
    "ax.spines['top'].set_visible(False)\n",
    "ax.spines['right'].set_visible(False)\n",
    "\n",
    "f.subplots_adjust(left=.2, bottom=0.2, right=None, top=None, wspace=None, hspace=None)\n",
    "# f.savefig(pjoin(fig_save_dir,'3_tau','fraction_exp_cells_{}.png'.format(crit_type)))\n",
    "# f.savefig(pjoin(fig_save_dir,'3_tau','fraction_exp_cells_{}.svg'.format(crit_type)))"
   ]
  },
  {
   "cell_type": "markdown",
   "id": "753c6ee7-f133-40c3-b08f-15e29d8fe648",
   "metadata": {},
   "source": [
    "## Tau distributions"
   ]
  },
  {
   "cell_type": "code",
   "execution_count": 19,
   "id": "b8a5bcee-9b3c-4b0f-be90-b354759b2fbd",
   "metadata": {},
   "outputs": [],
   "source": [
    "# cell selection codes\n",
    "# 0: Old Rp1\n",
    "# 1: FDR Rp1\n",
    "# 2: Model fit Rp1\n",
    "# 3: AND RC\n",
    "# 4: AND UC\n",
    "# 5: Model fit RC\n",
    "# 6: Model fit UC\n",
    "# 7: Model fit RC, UC"
   ]
  },
  {
   "cell_type": "markdown",
   "id": "8daaf005-eaac-4a34-a04a-aea81d2f7b91",
   "metadata": {},
   "source": [
    "### Extract Tau RC"
   ]
  },
  {
   "cell_type": "code",
   "execution_count": 61,
   "id": "6fa1f1d0-2c47-4f57-bf1a-87817a831b9f",
   "metadata": {},
   "outputs": [],
   "source": [
    "crit_type = 3\n",
    "rsc_pd = get_sessions_pd('RSC', crit_type)\n",
    "ppc_pd = get_sessions_pd('PPC', crit_type)\n",
    "m2_pd = get_sessions_pd('M2', crit_type)\n",
    "alm_pd = get_sessions_pd('ALM', crit_type)\n",
    "s1_pd = get_sessions_pd('S1', crit_type)\n",
    "\n",
    "# limit tau\n",
    "rsc_pd = rsc_pd.loc[(rsc_pd['tau_RC']>0.1) & (rsc_pd['tau_RC']<99)]\n",
    "ppc_pd = ppc_pd.loc[(ppc_pd['tau_RC']>0.1) & (ppc_pd['tau_RC']<99)]\n",
    "m2_pd = m2_pd.loc[(m2_pd['tau_RC']>0.1) & (m2_pd['tau_RC']<99)]\n",
    "alm_pd = alm_pd.loc[(alm_pd['tau_RC']>0.1) & (alm_pd['tau_RC']<99)]\n",
    "s1_pd = s1_pd.loc[(s1_pd['tau_RC']>0.1) & (s1_pd['tau_RC']<99)]"
   ]
  },
  {
   "cell_type": "markdown",
   "id": "88679949-0bc8-4f51-a76b-f380e4db3003",
   "metadata": {},
   "source": [
    "### [Plt] Tau overlay"
   ]
  },
  {
   "cell_type": "code",
   "execution_count": 62,
   "id": "4f984fad-875e-421e-837e-c07f9e4d63d5",
   "metadata": {},
   "outputs": [
    {
     "name": "stdout",
     "output_type": "stream",
     "text": [
      "2.7002491808290605 1.7092624296219525 1.770878097515237 1.3017048699438352 1.7244496349726146\n"
     ]
    },
    {
     "data": {
      "image/png": "[encoded data removed]",
      "text/plain": [
       "<Figure size 350x250 with 1 Axes>"
      ]
     },
     "metadata": {},
     "output_type": "display_data"
    }
   ],
   "source": [
    "y_rsc = rsc_pd['tau_RC'].values; n_rsc = len(rsc_pd)\n",
    "y_ppc = ppc_pd['tau_RC'].values; n_ppc = len(ppc_pd)\n",
    "y_m2 = m2_pd['tau_RC'].values; n_m2 = len(m2_pd)\n",
    "y_alm = alm_pd['tau_RC'].values; n_alm = len(alm_pd)\n",
    "y_s1 = s1_pd['tau_RC'].values; n_s1 = len(s1_pd)\n",
    "\n",
    "f,ax = plt.subplots(1,1, figsize = [3.5,2.5], tight_layout=False)\n",
    "n_bins = 32\n",
    "\n",
    "logbins = np.geomspace(10e-2, 10e2, n_bins)\n",
    "Y,_ = np.histogram(y_rsc,bins=logbins,density=False); Y = Y/n_rsc #Y/len(y_rsc)\n",
    "X = (np.diff(logbins)/2) + logbins[:-1] # midpoint of bins\n",
    "ax.bar(X,Y,(np.diff(logbins)),facecolor=plt_colors['RSC'],edgecolor='none',alpha = 1,label='RSC')\n",
    "\n",
    "Y,_ = np.histogram(y_ppc,bins=logbins,density=False); Y = Y/n_ppc # Y/len(y_ppc)\n",
    "X = (np.diff(logbins)/2) + logbins[:-1] # midpoint of bins\n",
    "ax.step(X,Y,color=plt_colors['PPC'],where=\"mid\",linewidth=1,label='PPC',alpha=1)\n",
    "\n",
    "Y,_ = np.histogram(y_m2,bins=logbins,density=False); Y = Y/n_m2 # Y/len(y_m2)\n",
    "X = (np.diff(logbins)/2) + logbins[:-1] # midpoint of bins\n",
    "ax.step(X,Y,color=plt_colors['M2'],where=\"mid\",linewidth=1,label='M2',alpha=1)\n",
    "\n",
    "Y,_ = np.histogram(y_alm,bins=logbins,density=False); Y = Y/n_alm # Y/len(y_alm)\n",
    "X = (np.diff(logbins)/2) + logbins[:-1] # midpoint of bins\n",
    "ax.step(X,Y,color=plt_colors['ALM'],where=\"mid\",linewidth=1,label='ALM',alpha=1)\n",
    "\n",
    "Y,_ = np.histogram(y_s1,bins=logbins,density=False); Y = Y/n_s1 # Y/len(y_s1)\n",
    "X = (np.diff(logbins)/2) + logbins[:-1] # midpoint of bins\n",
    "ax.step(X,Y,color=plt_colors['S1'],where=\"mid\",linewidth=1,label='S1',alpha=1)\n",
    "\n",
    "ax.set_xscale('log')\n",
    "ax.set_xlim([10e-2,10e1])\n",
    "ax.spines['top'].set_visible(False); ax.spines['right'].set_visible(False)\n",
    "ax.set_ylim([0, .18])\n",
    "ax.set_yticks([0.05,0.1,0.15,0.2])\n",
    "# ax.set_xlabel(r'$ \\tau$ (trials)',fontsize=12)\n",
    "ax.set_xlabel('T (trials)',fontsize=12)\n",
    "ax.set_ylabel('Fraction of cells',fontsize=12)\n",
    "ax.legend(loc='upper right',bbox_to_anchor=(1,1.05),frameon=False)\n",
    "\n",
    "print(np.median(y_rsc), np.median(y_ppc), np.median(y_m2),\n",
    "      np.median(y_alm), np.median(y_s1))\n",
    "\n",
    "f.subplots_adjust(left=.22, bottom=.22, right=None, top=None, wspace=None, hspace=None)\n",
    "# f.savefig(pjoin(fig_save_dir,'3_tau','tau_histogram_overlay_frac_crit_{}.png'.format(crit_type)))\n",
    "# f.savefig(pjoin(fig_save_dir,'3_tau','tau_histogram_overlay_frac_crit_{}.svg'.format(crit_type)))"
   ]
  },
  {
   "cell_type": "markdown",
   "id": "957cf117-b395-40d3-8a58-2738da275a02",
   "metadata": {},
   "source": [
    "## Histogram stats"
   ]
  },
  {
   "cell_type": "markdown",
   "id": "16c6538f-e35f-41fc-890c-ce6d575caef2",
   "metadata": {},
   "source": [
    "### Tau RC"
   ]
  },
  {
   "cell_type": "code",
   "execution_count": 63,
   "id": "d426384e-8ece-411f-8344-1d6ec36add1c",
   "metadata": {},
   "outputs": [],
   "source": [
    "crit_type = 3\n",
    "rsc_pd = get_sessions_pd('RSC', crit_type)\n",
    "ppc_pd = get_sessions_pd('PPC', crit_type)\n",
    "m2_pd = get_sessions_pd('M2', crit_type)\n",
    "alm_pd = get_sessions_pd('ALM', crit_type)\n",
    "s1_pd = get_sessions_pd('S1', crit_type)\n",
    "\n",
    "# limit tau\n",
    "rsc_pd = rsc_pd.loc[(rsc_pd['tau_RC']>0.1) & (rsc_pd['tau_RC']<99)]\n",
    "ppc_pd = ppc_pd.loc[(ppc_pd['tau_RC']>0.1) & (ppc_pd['tau_RC']<99)]\n",
    "m2_pd = m2_pd.loc[(m2_pd['tau_RC']>0.1) & (m2_pd['tau_RC']<99)]\n",
    "alm_pd = alm_pd.loc[(alm_pd['tau_RC']>0.1) & (alm_pd['tau_RC']<99)]\n",
    "s1_pd = s1_pd.loc[(s1_pd['tau_RC']>0.1) & (s1_pd['tau_RC']<99)]\n",
    "\n",
    "y_rsc = rsc_pd['tau_RC']\n",
    "y_ppc = ppc_pd['tau_RC']\n",
    "y_m2 = m2_pd['tau_RC']\n",
    "y_alm = alm_pd['tau_RC']\n",
    "y_s1 = s1_pd['tau_RC']"
   ]
  },
  {
   "cell_type": "code",
   "execution_count": 64,
   "id": "8663d1b6-f6b4-4610-b6ad-4a95643d51cd",
   "metadata": {},
   "outputs": [
    {
     "name": "stdout",
     "output_type": "stream",
     "text": [
      "1258 1066 448 747 430\n"
     ]
    }
   ],
   "source": [
    "print(len(y_rsc),len(y_ppc),len(y_alm),len(y_m2),len(y_s1))\n",
    "n_iter = 100000\n",
    "null_ppc_100 = bootstrap_medians(y_ppc,100,n_iter,0)\n",
    "null_alm_100 = bootstrap_medians(y_alm,100,n_iter,0)\n",
    "null_m2_100 = bootstrap_medians(y_m2,100,n_iter,0)\n",
    "null_s1_100 = bootstrap_medians(y_s1,100,n_iter,0)"
   ]
  },
  {
   "cell_type": "code",
   "execution_count": 65,
   "id": "47e534ae-a257-4009-b884-cc1087532189",
   "metadata": {
    "tags": []
   },
   "outputs": [
    {
     "name": "stdout",
     "output_type": "stream",
     "text": [
      "Medians: 2.70 1.71 1.77 1.30 1.72\n"
     ]
    }
   ],
   "source": [
    "rsc_median = np.median(y_rsc)\n",
    "ppc_median = np.median(y_ppc)\n",
    "alm_median = np.median(y_alm)\n",
    "m2_median = np.median(y_m2)\n",
    "s1_median = np.median(y_s1)\n",
    "medians_vec = np.array([rsc_median, ppc_median, m2_median, alm_median, s1_median])\n",
    "\n",
    "rsc_p_vec = np.array([(rsc_median<=null_ppc_100).sum()/n_iter,\n",
    "                      (rsc_median<=null_m2_100).sum()/n_iter,\n",
    "                      (rsc_median<=null_alm_100).sum()/n_iter,\n",
    "                      (rsc_median<=null_s1_100).sum()/n_iter ])\n",
    "# rsc_p_vec\n",
    "print('Medians: {0:.2f} {1:.2f} {2:.2f} {3:.2f} {4:.2f}'.format(*medians_vec))"
   ]
  },
  {
   "cell_type": "code",
   "execution_count": 66,
   "id": "a5d12000-ca50-4bcc-ba76-65ce5256a00c",
   "metadata": {},
   "outputs": [
    {
     "name": "stdout",
     "output_type": "stream",
     "text": [
      "Medians: 2.70 1.71 1.77 1.30 1.72\n",
      "p values without multicompare are: 0.0e+00 1.0e-05 0.0e+00 2.0e-05\n",
      "p values with FDR (BH) are: 0.0e+00 1.3e-05 0.0e+00 2.0e-05\n",
      "p values with bonferoni are: 0.0e+00 4.0e-05 0.0e+00 8.0e-05\n"
     ]
    }
   ],
   "source": [
    "print('Medians: {0:.2f} {1:.2f} {2:.2f} {3:.2f} {4:.2f}'.format(*medians_vec))\n",
    "_,rsc_p_fdr,_,_ = sm.stats.multitest.multipletests(rsc_p_vec, alpha=0.05,method='fdr_bh')\n",
    "_,rsc_p_b,_,_ = sm.stats.multitest.multipletests(rsc_p_vec, alpha=0.05,method='b')\n",
    "print('p values without multicompare are: {0:.1e} {1:.1e} {2:.1e} {3:.1e}'.format(*rsc_p_vec))\n",
    "print('p values with FDR (BH) are: {0:.1e} {1:.1e} {2:.1e} {3:.1e}'.format(*rsc_p_fdr))\n",
    "print('p values with bonferoni are: {0:.1e} {1:.1e} {2:.1e} {3:.1e}'.format(*rsc_p_b))\n",
    "\n",
    "# print('p values without multicompare are: {0:.5f} {1:.5f} {3:.5f} {3:.5f}'.format(*pval_vec))\n",
    "# print('p values with holm-bonferoni are: {0:.5f} {1:.5f} {3:.5f} {3:.5f}'.format(*pval_bh))\n",
    "# print('p values with bonferoni are: {0:.5f} {1:.5f} {3:.5f} {3:.5f}'.format(*pval_b))"
   ]
  },
  {
   "cell_type": "markdown",
   "id": "0b3ed649-7447-4c60-aab4-568100ae27a5",
   "metadata": {},
   "source": [
    "#### [Plt] Box and whisker plot with stars, all Exp cells"
   ]
  },
  {
   "cell_type": "code",
   "execution_count": 67,
   "id": "197c3b88-d6f3-4476-bec2-b891b3c0b8fd",
   "metadata": {},
   "outputs": [
    {
     "data": {
      "image/png": "[encoded data removed]",
      "text/plain": [
       "<Figure size 350x200 with 1 Axes>"
      ]
     },
     "metadata": {},
     "output_type": "display_data"
    }
   ],
   "source": [
    "y_rsc = rsc_pd['tau_RC'].values; n_rsc = len(rsc_pd)\n",
    "y_ppc = ppc_pd['tau_RC'].values; n_ppc = len(ppc_pd)\n",
    "y_alm = alm_pd['tau_RC'].values; n_alm = len(alm_pd)\n",
    "y_m2 = m2_pd['tau_RC'].values; n_m2 = len(m2_pd)\n",
    "y_s1 = s1_pd['tau_RC'].values; n_s1 = len(s1_pd)\n",
    "\n",
    "f,ax = plt.subplots(1,1, figsize = [3.5,2], tight_layout=False)\n",
    "plot_colored_boxplot(ax,y_rsc,1,plt_colors['RSC'])\n",
    "plot_colored_boxplot(ax,y_ppc,2,plt_colors['PPC'])\n",
    "plot_colored_boxplot(ax,y_m2,3,plt_colors['M2'])\n",
    "plot_colored_boxplot(ax,y_alm,4,plt_colors['ALM'])\n",
    "plot_colored_boxplot(ax,y_s1,5,plt_colors['S1'])\n",
    "ax.spines['top'].set_visible(False)\n",
    "ax.spines['right'].set_visible(False)\n",
    "# ax.set_ylabel(r'Cell $\\tau$',fontsize=12)\n",
    "ax.set_ylabel('Cell T',fontsize=12)\n",
    "ax.set_xticks([1,2,3,4,5])\n",
    "ax.set_yticks([0,5,10])\n",
    "ax.set_xticklabels(['RSC','PPC','pM2','ALM','S1'],fontsize=12)\n",
    "ax.set_ylim([-1,12])\n",
    "ax.plot([1.25,5],[11.65,11.65],'-k',linewidth=1.5); ax.text(1.35,11.75,sig_text(rsc_p_fdr[3]),fontsize=8)\n",
    "ax.plot([1.25,4],[10.35,10.35],'-k',linewidth=1.5); ax.text(1.35,10.5,sig_text(rsc_p_fdr[2]),fontsize=8)\n",
    "ax.plot([1.25,3],[9.1,9.1],'-k',linewidth=1.5); ax.text(1.35,9.25,sig_text(rsc_p_fdr[1]),fontsize=8)\n",
    "ax.plot([1.25,2],[7.85,7.85],'-k',linewidth=1.5); ax.text(1.35,8,sig_text(rsc_p_fdr[0]),fontsize=8)\n",
    "\n",
    "f.subplots_adjust(left=.2, bottom=None, right=None, top=None, wspace=None, hspace=None)\n",
    "# f.savefig(pjoin(fig_save_dir,'3_tau','tau_boxplot_stats_crit_{}.png'.format(crit_type)))\n",
    "# f.savefig(pjoin(fig_save_dir,'3_tau','tau_boxplot_stats_crit_{}.svg'.format(crit_type)))"
   ]
  },
  {
   "cell_type": "markdown",
   "id": "5d842165-8df9-4ac6-82b2-28ada5217621",
   "metadata": {},
   "source": [
    "## Tau consistency"
   ]
  },
  {
   "cell_type": "markdown",
   "id": "97414a15-7f0d-44fa-b2d3-d66a966197fe",
   "metadata": {
    "jupyter": {
     "outputs_hidden": true
    },
    "tags": []
   },
   "source": [
    "### Iterate through shuffled sessions, extract correlations"
   ]
  },
  {
   "cell_type": "code",
   "execution_count": 68,
   "id": "9a126dbc-6726-4851-9395-4c2048e7339d",
   "metadata": {},
   "outputs": [],
   "source": [
    "# iterate through each shuffled session, extract correlations\n",
    "\n",
    "sessions_all = BD.get_sessions('all')\n",
    "rho_vec = np.array([])\n",
    "p_spearman_vec = np.array([])\n",
    "for ss in range(len(sessions_all)):\n",
    "    mouse = sessions_all[ss][:5]\n",
    "    date = sessions_all[ss][6:12]\n",
    "    session = sessions_all[ss][6:]\n",
    "    # print('Checking analysis for {} on {}'.format(mouse, date))\n",
    "\n",
    "    save_filename = pjoin(cellfits_dir,'ready_cellfits_shuffle',\n",
    "                      'partition_300_2s_{}_15hist_shuffle.nc'.format(sessions_all[ss]))\n",
    "\n",
    "    partition_xarray = xr.open_dataset(save_filename)                     \n",
    "    half_iters = partition_xarray.half.values\n",
    "    # calculate correlation between first and last\n",
    "    rho, pval = calc_shuffle_correlation(partition_xarray,1,2)\n",
    "    if rho==1: rho=-0.01\n",
    "    rho_vec = np.append(rho_vec,rho)\n",
    "    p_spearman_vec = np.append(p_spearman_vec,pval)\n",
    "shuffle_rho_vec = rho_vec\n",
    "shuffle_p_spearman_vec = p_spearman_vec"
   ]
  },
  {
   "cell_type": "code",
   "execution_count": 69,
   "id": "97e6e732-e82f-4155-a541-a0689dcddfe1",
   "metadata": {
    "tags": []
   },
   "outputs": [],
   "source": [
    "# area, crit_type, param_name, dif_bool\n",
    "crit_type = 3\n",
    "real_rho_vec, real_p_spearman_vec = calc_cell_correlation('all', crit_type, 'tau_RC',1)"
   ]
  },
  {
   "cell_type": "markdown",
   "id": "54331cda-4f53-4ee0-9f42-65fd8788e566",
   "metadata": {},
   "source": [
    "### [Plt] Correlation histogram with shuffle (twin axis)"
   ]
  },
  {
   "cell_type": "code",
   "execution_count": 70,
   "id": "056d5742-444e-4584-98cd-8deb77e2daac",
   "metadata": {
    "tags": []
   },
   "outputs": [
    {
     "name": "stdout",
     "output_type": "stream",
     "text": [
      "Mean correlation: 0.42\n",
      "Mean correlation: -0.01\n",
      "Geomean pvalue: 0.00239, 2.39e-03\n",
      "Geomean pvalue: 0.39\n"
     ]
    },
    {
     "data": {
      "image/png": "[encoded data removed]",
      "text/plain": [
       "<Figure size 450x200 with 2 Axes>"
      ]
     },
     "metadata": {},
     "output_type": "display_data"
    }
   ],
   "source": [
    "f,ax = plt.subplots(1,1, sharey=True, sharex=False, figsize = [4.5,2], tight_layout=False)\n",
    "n_bins = 31\n",
    "bins = np.linspace(-.5,1,n_bins)\n",
    "Y,_ = np.histogram(real_rho_vec,bins=bins,density=False); Y = Y/len(real_rho_vec)\n",
    "Y_sh,_ = np.histogram(shuffle_rho_vec,bins=bins,density=False); Y_sh = Y_sh/len(shuffle_rho_vec)\n",
    "X = (np.diff(bins)/2) + bins[:-1]\n",
    "\n",
    "ax2 = ax.twinx()\n",
    "ax2.bar(X,Y,(np.diff(bins)),facecolor=[.15,.15,.15],edgecolor='k',alpha=0.7,label='Real')\n",
    "ax2.set_ylim([0,0.2])\n",
    "\n",
    "ax.bar(X,Y_sh,(np.diff(bins)),facecolor=[.65,.65,.65],edgecolor='k',alpha=0.5,label='Shuffle')\n",
    "ax.set_ylim([0,0.4])\n",
    "ax.set_xlim([-.3,1.1])\n",
    "\n",
    "ax.plot([np.mean(shuffle_rho_vec),np.mean(shuffle_rho_vec)],[0,.5],'--r')\n",
    "ax2.plot([np.mean(real_rho_vec),np.mean(real_rho_vec)],[0,.25],'-r')\n",
    "ax.set_xlabel('Correlation (spearman)',fontsize=12)\n",
    "ax.set_ylabel('Fraction of sessions \\n (shuffle)',fontsize=12)\n",
    "ax2.set_ylabel('(real)',fontsize=12)\n",
    "ax.legend(loc='upper right',frameon=False,bbox_to_anchor=(1.05,.85,0,0))\n",
    "ax2.legend(loc='upper right',frameon=False,bbox_to_anchor=(.96,1,0,0))\n",
    "ax.spines['top'].set_visible(False)\n",
    "ax2.spines['top'].set_visible(False)\n",
    "ax.spines['right'].set_visible(False)\n",
    "print('Mean correlation: {0:.2f}'.format(np.mean(real_rho_vec)))\n",
    "print('Mean correlation: {0:.2f}'.format(np.mean(shuffle_rho_vec)))\n",
    "print('Geomean pvalue: {0:.5f}, {0:.2e}'.format(stats.gmean(real_p_spearman_vec)))\n",
    "print('Geomean pvalue: {0:.2f}'.format(stats.gmean(shuffle_p_spearman_vec)))\n",
    "f.subplots_adjust(left=0.25, bottom=0.25, right=0.8, top=None, wspace=None, hspace=None)\n",
    "# f.savefig(pjoin(fig_save_dir, '3_tau', 'tau_consistency_crit_{}.svg'.format(crit_type)))\n",
    "# f.savefig(pjoin(fig_save_dir,'3_tau', 'tau_consistency_crit_{}.png'.format(crit_type)))"
   ]
  },
  {
   "cell_type": "markdown",
   "id": "e2e20daf-a91b-478f-8268-08b837dd979c",
   "metadata": {},
   "source": [
    "### [Plt] example correlation scatter"
   ]
  },
  {
   "cell_type": "code",
   "execution_count": 71,
   "id": "9758a877-7721-48ec-8a7c-b5d1fed3da4d",
   "metadata": {},
   "outputs": [
    {
     "name": "stdout",
     "output_type": "stream",
     "text": [
      "0.5476063829787234 9.3045321258183e-09\n"
     ]
    }
   ],
   "source": [
    "crit_type = 3\n",
    "param_name = 'tau_RC'\n",
    "sessions_all = BD.get_sessions('RSC')\n",
    "ss = 8\n",
    "# load cv xarray\n",
    "save_filename = pjoin(cellfits_dir,'ready_cellfits','cv_compare_mdl','sse_{}_15hist.nc'.format(sessions_all[ss]))\n",
    "cv_xarray = xr.open_dataset(save_filename)\n",
    "\n",
    "# load havles xarray\n",
    "save_filename = pjoin(cellfits_dir,'ready_cellfits','halves_compare_mdl','sse_{}_15hist.nc'.format(sessions_all[ss]))\n",
    "halves_xarray = xr.open_dataset(save_filename)\n",
    "\n",
    "cell_select = get_cell_select(cv_xarray, halves_xarray, crit_type)\n",
    "if sum(cell_select)>10:\n",
    "    tau_1 = halves_xarray.sel(half=1, mdl_type='exp_r', cell=cell_select)[param_name].values\n",
    "    tau_2 = halves_xarray.sel(half=2, mdl_type='exp_r', cell=cell_select)[param_name].values\n",
    "    val_1 = tau_1[(tau_1>0.1) & (tau_1<99) & (tau_2>0.1) & (tau_2<99)]\n",
    "    val_2 = tau_2[(tau_1>0.1) & (tau_1<99) & (tau_2>0.1) & (tau_2<99)]\n",
    "\n",
    "    cell_dif = abs(val_2 - val_1)/(val_2 + val_1)\n",
    "    val_1 = val_1[cell_dif<0.9]\n",
    "    val_2 = val_2[cell_dif<0.9]\n",
    "    rho,pval = stats.spearmanr(val_1,val_2)\n",
    "print(rho,pval)"
   ]
  },
  {
   "cell_type": "code",
   "execution_count": 72,
   "id": "4a8c45cc-90be-4820-ac79-506b3bd7f120",
   "metadata": {},
   "outputs": [
    {
     "name": "stdout",
     "output_type": "stream",
     "text": [
      "0.5476063829787234 9.3045321258183e-09\n"
     ]
    },
    {
     "data": {
      "image/png": "[encoded data removed]",
      "text/plain": [
       "<Figure size 200x200 with 1 Axes>"
      ]
     },
     "metadata": {},
     "output_type": "display_data"
    }
   ],
   "source": [
    "f,ax = plt.subplots(1,1, sharey=False, sharex=False, figsize = [2,2], tight_layout=False)\n",
    "ax.scatter(val_1,val_2,facecolor='grey',edgecolor='grey',alpha=1,s=5)\n",
    "ax.plot([.01,100],[.01,100],'-k',linewidth=1)\n",
    "ax.set_xscale('log')\n",
    "ax.set_yscale('log')\n",
    "ax.set_xlim([1e-1,50])\n",
    "ax.set_ylim([1e-1,50])\n",
    "ax.set_xticks([.1,1,10])\n",
    "ax.set_xticklabels(['0.1','1','10'])\n",
    "ax.set_yticks([.1,1,10])\n",
    "ax.set_yticklabels(['0.1','1','10'])\n",
    "ax.spines['top'].set_visible(False); ax.spines['right'].set_visible(False)\n",
    "# ax.set_xlabel(r'$\\tau_{first half}$',fontsize=18)\n",
    "# ax.set_ylabel(r'$\\tau_{second half}$',fontsize=18)\n",
    "# ax.set_title('rho={0:.2f}, p={1:.2e}'.format(rho,pval), fontsize=10)\n",
    "ax.set_xlabel('T first-half',fontsize=12)\n",
    "ax.set_ylabel('T second-half',fontsize=12)\n",
    "ax.set_title('Example session', fontsize=12)\n",
    "plt.subplots_adjust(left=.25, bottom=.25, right=None, top=None, wspace=None, hspace=None)\n",
    "\n",
    "print(rho, pval)\n",
    "# f.savefig(pjoin(fig_save_dir,'3_tau','tau_consistency_example_{}.svg'.format(ss)))\n",
    "# f.savefig(pjoin(fig_save_dir,'3_tau','tau_consistency_example_{}.png'.format(ss)))"
   ]
  },
  {
   "cell_type": "markdown",
   "id": "ce78c741-bcb0-40f7-ac86-e4af2a3f2f35",
   "metadata": {},
   "source": [
    "## Quasi-hyperbolic"
   ]
  },
  {
   "cell_type": "markdown",
   "id": "e47e50d1-c984-452d-9153-d5e85e9b6e26",
   "metadata": {},
   "source": [
    "### Load behavior estimates"
   ]
  },
  {
   "cell_type": "code",
   "execution_count": 73,
   "id": "7a9b3c3c-709c-4259-a3c0-a85abcabb540",
   "metadata": {},
   "outputs": [],
   "source": [
    "file_savename = pjoin(behavior_dir, 'behlogit_exp_hyp_history.nc')\n",
    "behlogit_expert = xr.open_dataset(file_savename)\n",
    "behlogit_fit = behlogit_expert.sel(mdl_name=['exp_r','hyp_r'],mdl_history=15).drop('mdl_history')[[\n",
    "    'CV_mean_loglik', 'CV_mean_loglik_trial']]\n",
    "\n",
    "file_savename = pjoin(behavior_dir,'quasihyp_subsample_cv.nc')\n",
    "performance_cv_xarray = xr.open_dataset(file_savename)"
   ]
  },
  {
   "cell_type": "code",
   "execution_count": 74,
   "id": "e6fdba6d-8079-4459-9d6a-61a8a445623b",
   "metadata": {},
   "outputs": [],
   "source": [
    "delta_hyp_exp = (behlogit_fit.sel(mdl_name='hyp_r').CV_mean_loglik_trial - \n",
    "                 behlogit_fit.sel(mdl_name='exp_r').CV_mean_loglik_trial).values\n",
    "median_delta_hyp_exp = np.median(delta_hyp_exp)\n",
    "ci_l_delta_hyp_exp = np.percentile(delta_hyp_exp, 25, axis=0)\n",
    "ci_u_delta_hyp_exp = np.percentile(delta_hyp_exp, 75, axis=0)\n",
    "\n",
    "mean_delta_hyp_exp = delta_hyp_exp.mean()\n",
    "sem_delta_hyp_exp = delta_hyp_exp.std()/np.sqrt(len(delta_hyp_exp))"
   ]
  },
  {
   "cell_type": "markdown",
   "id": "f395ba19-ad7a-43a9-81a2-be5bad31ab70",
   "metadata": {},
   "source": [
    "### [Plt] Quasi-hyp errorbar for each area (mean)"
   ]
  },
  {
   "cell_type": "code",
   "execution_count": 75,
   "id": "35bb5729-e1ec-4786-b9a4-aa598769f1eb",
   "metadata": {},
   "outputs": [
    {
     "data": {
      "image/png": "[encoded data removed]",
      "text/plain": [
       "<Figure size 350x250 with 1 Axes>"
      ]
     },
     "metadata": {},
     "output_type": "display_data"
    }
   ],
   "source": [
    "f,ax = plt.subplots(1,1, sharey=False, sharex=False, figsize = [3.5,2.5], tight_layout=True)\n",
    "max_n_tau = 10\n",
    "x_ind = np.linspace(1,max_n_tau,max_n_tau)\n",
    "\n",
    "ax.plot([0,20], [mean_delta_hyp_exp, mean_delta_hyp_exp], '-', color='grey')\n",
    "ax.fill_between([0,20], [mean_delta_hyp_exp-sem_delta_hyp_exp, mean_delta_hyp_exp-sem_delta_hyp_exp],\n",
    "                   [mean_delta_hyp_exp+sem_delta_hyp_exp, mean_delta_hyp_exp+sem_delta_hyp_exp],\n",
    "                   facecolor='grey', alpha=0.25)\n",
    "\n",
    "ax.plot([0,max_n_tau+1],[0,0],'--k',linewidth=1)\n",
    "for area in ['RSC','PPC','ALM','M2','S1']:#,'V1']:\n",
    "    ll_mean = performance_cv_xarray.sel(generating_area=area).loglik_trial_dexp.mean(['draw_iter','session_id'])[:max_n_tau]#.values\n",
    "    ll_std = performance_cv_xarray.sel(generating_area=area).loglik_trial_dexp.mean('draw_iter').std('session_id')[:max_n_tau]#.values\n",
    "    ll_sem = ll_std/np.sqrt(len(performance_cv_xarray.session_id))\n",
    "#     ax.errorbar(x_ind[1:],ll_mean[1:],ll_sem[1:],color=area_colors[area],capsize=5,label=area)\n",
    "    ax.errorbar(x_ind,ll_mean,ll_sem,color=plt_colors[area],capsize=5,label=area)\n",
    "ax.text(.5,.0012,'hyp - exp',color='grey',fontsize=12)\n",
    "ax.set_xlabel('# T sampled',fontsize=12)\n",
    "# ax.set_xlabel(r'# $\\tau$ sampled',fontsize=12)\n",
    "# y_string = r'$\\Delta$ log.lik.'\n",
    "# y_string += '\\n  (Neu.Sum - BehExp)'\n",
    "y_string = 'D cv loglik per trial \\n (quasi - exp)'\n",
    "ax.set_ylabel(y_string,fontsize=12)\n",
    "ax.set_xlim([0,max_n_tau+.2])\n",
    "ax.set_xticks(np.linspace(1,max_n_tau,max_n_tau))\n",
    "ax.set_xticklabels([1,'','','',5,'','','','',10])\n",
    "ax.spines['top'].set_visible(False)\n",
    "ax.spines['right'].set_visible(False)\n",
    "ax.legend(loc='lower right', frameon=False)\n",
    "ax.set_ylim([-.005,.002])\n",
    "\n",
    "f.subplots_adjust(left=None, bottom=None, right=None, top=None, wspace=None, hspace=None)\n",
    "# f.savefig(pjoin(fig_save_dir,'3_tau','delta_loglik_quasi.png'))\n",
    "# f.savefig(pjoin(fig_save_dir,'3_tau','delta_loglik_quasi.svg'))"
   ]
  }
 ],
 "metadata": {
  "kernelspec": {
   "display_name": "Python 3 (ipykernel)",
   "language": "python",
   "name": "python3"
  },
  "language_info": {
   "codemirror_mode": {
    "name": "ipython",
    "version": 3
   },
   "file_extension": ".py",
   "mimetype": "text/x-python",
   "name": "python",
   "nbconvert_exporter": "python",
   "pygments_lexer": "ipython3",
   "version": "3.7.13"
  }
 },
 "nbformat": 4,
 "nbformat_minor": 5
}
