{
 "cells": [
  {
   "cell_type": "markdown",
   "id": "003afe5f-46c1-4d82-b495-f8b32dfcc9cc",
   "metadata": {},
   "source": [
    "# Figure 1\n",
    "Mice rely on hyperbolic rather than exponential weighting of rewarded-choice history during history-dependent value-based decision-making."
   ]
  },
  {
   "cell_type": "code",
   "execution_count": 1,
   "id": "e0f78ab6-21c1-4dae-9dcd-1ca26cb4253f",
   "metadata": {},
   "outputs": [],
   "source": [
    "%load_ext autoreload"
   ]
  },
  {
   "cell_type": "markdown",
   "id": "e15cdb60-20ef-4cd1-b121-a7cd5f134ba7",
   "metadata": {},
   "source": [
    "## General import functions"
   ]
  },
  {
   "cell_type": "code",
   "execution_count": 2,
   "id": "5aaa5797-eda6-4bdc-af2a-2d3693ab8a85",
   "metadata": {},
   "outputs": [],
   "source": [
    "%reset -f\n",
    "import sys\n",
    "from os.path import dirname, join as pjoin\n",
    "from os import listdir\n",
    "sys.path.append('C:\\\\jupyter_notebooks\\\\Danskin_SciAdv_2023\\\\py_code') # set local directory\n",
    "import numpy as np\n",
    "import pickle\n",
    "import random\n",
    "import xarray as xr\n",
    "import pandas as pd\n",
    "\n",
    "import h5py\n",
    "import scipy.io as sio\n",
    "from scipy import stats\n",
    "import statsmodels as sm # import statsmodels.api as sm\n",
    "from scipy.optimize import minimize, basinhopping, curve_fit\n",
    "from sklearn.model_selection import KFold\n",
    "from tqdm.notebook import tqdm, trange"
   ]
  },
  {
   "cell_type": "code",
   "execution_count": 3,
   "id": "74c26a79-e219-4833-b972-15ba145a6f63",
   "metadata": {},
   "outputs": [],
   "source": [
    "## Directories\n",
    "%autoreload\n",
    "import bdanskin as BD \n",
    "\n",
    "project_dir = 'C:\\\\jupyter_notebooks\\\\Danskin_SciAdv_2023' # local directory\n",
    "imaging_dir = pjoin(project_dir, 'hattori_datasets_xarray')\n",
    "cellfits_dir = pjoin(project_dir, 'hattori_datasets_xarray_cellfits')\n",
    "behavior_dir = pjoin(project_dir, 'hattori_datasets_behavior')"
   ]
  },
  {
   "cell_type": "code",
   "execution_count": 4,
   "id": "96c1f6cf-3e71-4b37-8f6f-cde7dcbf898a",
   "metadata": {},
   "outputs": [],
   "source": [
    "%matplotlib inline\n",
    "import matplotlib.pyplot as plt\n",
    "plt.rcParams['svg.fonttype'] = 'none'\n",
    "fig_save_dir = 'ms_figures_230623'"
   ]
  },
  {
   "cell_type": "markdown",
   "id": "e2f218ad-7661-4142-8ed0-6283a081b880",
   "metadata": {},
   "source": [
    "## General plotting functions"
   ]
  },
  {
   "cell_type": "code",
   "execution_count": 5,
   "id": "12a25f06-dc48-4b54-82ad-cc1ab13e190f",
   "metadata": {},
   "outputs": [],
   "source": [
    "plt_colors = BD.plt_color_dir()\n",
    "def sem(y):\n",
    "    if len(np.shape(y))==1:\n",
    "        return np.nanstd(y)/np.sqrt(len(y)-1)\n",
    "    else:\n",
    "        n,_ = np.shape(y)\n",
    "        return np.nanstd(y,0)/np.sqrt(n-1)\n",
    "\n",
    "def plt_remove_spines(ax):\n",
    "    if len(np.shape(ax))>1:\n",
    "        ax_y, ax_x = np.shape(ax)\n",
    "        for xx in range(ax_x):\n",
    "            for yy in range(ax_y):\n",
    "                ax[yy,xx].spines['top'].set_visible(False)\n",
    "                ax[yy,xx].spines['right'].set_visible(False)\n",
    "    else:\n",
    "        for xx in range(len(ax)):\n",
    "            ax[xx].spines['top'].set_visible(False)\n",
    "            ax[xx].spines['right'].set_visible(False)\n",
    "\n",
    "def stats_compare(y):\n",
    "    if np.nanmean(y)>0:\n",
    "        pos_neg = 1\n",
    "    else:\n",
    "        pos_neg = -1\n",
    "        \n",
    "    _,pnorm = stats.normaltest(y)\n",
    "    if pnorm<0.05:\n",
    "        h_norm = 0\n",
    "        _, pval = stats.wilcoxon(y)\n",
    "        print('wilcoxon')\n",
    "    else:\n",
    "        h_norm = 1\n",
    "        _, pval = stats.ttest_1samp(y,0.0)\n",
    "        print('ttest')\n",
    "        \n",
    "    h_lvl = 0\n",
    "    if (pval<0.05) & (pval>=0.01):\n",
    "        h_lvl = 1\n",
    "    elif (pval<0.01) & (pval>=0.001):\n",
    "        h_lvl = 2\n",
    "    elif (pval<0.001) & (pval>=0.0001):\n",
    "        h_lvl = 3\n",
    "    elif (pval<0.0001):\n",
    "        h_lvl = 4\n",
    "    return pval, h_lvl, h_norm, pos_neg\n",
    "\n",
    "def sig_text(pval):\n",
    "    sig_lvl = 0\n",
    "    if (pval<0.05) & (pval>=0.01):\n",
    "        sig_lvl = 1\n",
    "    elif (pval<0.01) & (pval>=0.001):\n",
    "        sig_lvl = 2\n",
    "    elif (pval<0.001) & (pval>=0.0001):\n",
    "        sig_lvl = 3\n",
    "    elif (pval<0.0001):\n",
    "        sig_lvl = 4\n",
    "\n",
    "    if sig_lvl==4:\n",
    "        txt_out = '****'\n",
    "    elif sig_lvl==3:\n",
    "        txt_out = '***'  \n",
    "    elif sig_lvl==2:\n",
    "        txt_out = '**'      \n",
    "    elif sig_lvl==1:\n",
    "        txt_out = '*'\n",
    "    else:\n",
    "        txt_out = 'n.s.'\n",
    "    return txt_out\n",
    "\n",
    "def add_sig_plt(ax,x_ind,y_ind,font_size,pval,sig_lvl,pos_neg):\n",
    "    plt_clr = 'k'\n",
    "    if pos_neg==1:\n",
    "        plt_clr = 'r'\n",
    "        \n",
    "    if sig_lvl==-1:    # catch for mixedeffects that have no sig lvl\n",
    "        sig_lvl = 0\n",
    "        if (pval<0.05) & (pval>=0.01):\n",
    "            sig_lvl = 1\n",
    "        elif (pval<0.01) & (pval>=0.001):\n",
    "            sig_lvl = 2\n",
    "        elif (pval<0.001) & (pval>=0.0001):\n",
    "            sig_lvl = 3\n",
    "        elif (pval<0.0001):\n",
    "            sig_lvl = 4\n",
    "\n",
    "    if sig_lvl==4:\n",
    "        ax.text(x_ind,y_ind,'****',color=plt_clr,fontsize = font_size, transform = ax.transAxes)\n",
    "    if sig_lvl==3:\n",
    "        ax.text(x_ind,y_ind,'***',color=plt_clr,fontsize = font_size, transform = ax.transAxes)  \n",
    "    if sig_lvl==2:\n",
    "        ax.text(x_ind,y_ind,'**',color=plt_clr,fontsize = font_size, transform = ax.transAxes)      \n",
    "    if sig_lvl==1:\n",
    "        ax.text(x_ind,y_ind,'*',color=plt_clr,fontsize = font_size, transform = ax.transAxes)"
   ]
  },
  {
   "cell_type": "markdown",
   "id": "a73f4616-bff3-4152-a3cf-d62f6469b0ce",
   "metadata": {},
   "source": [
    "## Specific plotting functions"
   ]
  },
  {
   "cell_type": "markdown",
   "id": "0e0efac9-d4e8-4997-b722-aa6b119b0a29",
   "metadata": {},
   "source": [
    "#### decay functions"
   ]
  },
  {
   "cell_type": "code",
   "execution_count": 6,
   "id": "2c5969bc-d768-467b-85a9-aaf9c27ce2b1",
   "metadata": {},
   "outputs": [],
   "source": [
    "def exp_single(x, a, b):\n",
    "    return a * np.exp(x/b)\n",
    "def hyper(x, a,b):\n",
    "    return a/(1-(x)/b)\n",
    "# Fit decay functions\n",
    "def fit_decay_parameters(x_ind,weights):\n",
    "    decay_analysis = {'x_ind': x_ind,\n",
    "                      'weights': weights}\n",
    "    # Fit exponential\n",
    "    popt, _ = curve_fit(exp_single, x_ind, weights,p0=(2,1))# ,bounds=([0,0],[5,np.inf]))\n",
    "    print(popt)\n",
    "    AIC = calc_aic(x_ind, weights, exp_single, popt)\n",
    "    decay_analysis['single_exp'] = popt\n",
    "    decay_analysis['single_exp_AIC'] = AIC\n",
    "     \n",
    "    # Fit Hyperbolic\n",
    "    popt, _ = curve_fit(hyper, x_ind, weights,p0=(0.1,2))\n",
    "    print(popt)\n",
    "    AIC = calc_aic(x_ind, weights, hyper, popt)\n",
    "    decay_analysis['hyper'] = popt\n",
    "    decay_analysis['hyper_AIC'] = AIC\n",
    "    return decay_analysis\n",
    "def calc_aic(x,y,func, params):\n",
    "    k = len(params)\n",
    "    y_pred = func(x,*params)\n",
    "    resid = y - y_pred\n",
    "    sse = sum(resid ** 2)\n",
    "\n",
    "    AIC = 2*k + len(y)*np.log(sse)\n",
    "    return AIC"
   ]
  },
  {
   "cell_type": "markdown",
   "id": "45281a85-b30a-42bc-bdac-44afd6d17b0c",
   "metadata": {},
   "source": [
    "#### delta loglik"
   ]
  },
  {
   "cell_type": "code",
   "execution_count": 7,
   "id": "9446a67d-567c-4af0-affc-d7eac67b7e17",
   "metadata": {},
   "outputs": [],
   "source": [
    "def delta_loglik_func(temp_ds_1,temp_ds_2,mdl_type_1,mdl_type_2,n_hist):\n",
    "    y_out = (temp_ds_1.loc[((temp_ds_1['mdl_type']==mdl_type_1) & \n",
    "                           (temp_ds_1['mdl_hist']==n_hist)), 'CV_mean_norm_loglik'] -\n",
    "             temp_ds_2.loc[((temp_ds_2['mdl_type']==mdl_type_2) & \n",
    "                           (temp_ds_2['mdl_hist']==n_hist)), 'CV_mean_norm_loglik']).values\n",
    "    return y_out"
   ]
  },
  {
   "cell_type": "markdown",
   "id": "a8ec2eda-9014-4bf4-9c62-29222bf1cc3a",
   "metadata": {},
   "source": [
    "#### box plots"
   ]
  },
  {
   "cell_type": "code",
   "execution_count": 8,
   "id": "4d2cdbeb-c39a-456f-95da-7bdb9596dbc0",
   "metadata": {},
   "outputs": [],
   "source": [
    "def plot_colored_boxplot(ax,data_vec,x_pos,tmp_c):\n",
    "    ax.boxplot(data_vec, positions=[x_pos], widths=.4, notch=False, showfliers=False,\n",
    "           patch_artist=True,\n",
    "           boxprops=dict(facecolor='none',color=tmp_c,linewidth=1.5),\n",
    "           capprops=dict(color=tmp_c,linewidth=1.5),\n",
    "           whiskerprops=dict(color=tmp_c,linewidth=1.5),\n",
    "           medianprops=dict(color=tmp_c,linewidth=1.5),\n",
    "            )\n",
    "def plot_bxplt(ax, y, x, clr):\n",
    "    ax.boxplot([y], positions=[x], widths=0.35, notch=False,showfliers=False,\n",
    "               patch_artist=True,\n",
    "               boxprops=dict(facecolor='none',color=clr,linewidth=1.0),\n",
    "               capprops=dict(color=clr,linewidth=1.0),\n",
    "               whiskerprops=dict(color=clr,linewidth=1.0),\n",
    "               medianprops=dict(color=clr,linewidth=1.0))"
   ]
  },
  {
   "cell_type": "markdown",
   "id": "25f7f094-2604-41c3-8543-42d1a9c132db",
   "metadata": {},
   "source": [
    "## Plot example session"
   ]
  },
  {
   "cell_type": "code",
   "execution_count": 9,
   "id": "974e1b3a-7e3b-494b-ab46-e25655405fb5",
   "metadata": {},
   "outputs": [
    {
     "name": "stdout",
     "output_type": "stream",
     "text": [
      "RH824_170824_ALM_l\n"
     ]
    }
   ],
   "source": [
    "session = 'RH824_170824_ALM_l'\n",
    "print(session)\n",
    "filesavename = pjoin(behavior_dir,'imaging_processed_data_behonly','{}.pkl'.format(session))\n",
    "session_behavior = pickle.load(open(filesavename,'rb'))\n",
    "\n",
    "files_savename = pjoin(behavior_dir, 'logstic_imaging_10_hist.pkl')\n",
    "reg_beh= pickle.load(open(files_savename,'rb'))\n",
    "session_results = reg_beh.loc[(reg_beh['Date']==session[6:12])]"
   ]
  },
  {
   "cell_type": "markdown",
   "id": "e0472479-5817-4eb5-b543-b1f712129a6f",
   "metadata": {},
   "source": [
    "### [Plt] session example"
   ]
  },
  {
   "cell_type": "code",
   "execution_count": 10,
   "id": "1ee0acfc-263d-4d4d-8ccd-4ee32033f507",
   "metadata": {},
   "outputs": [
    {
     "data": {
      "image/png": "[encoded data removed]",
      "text/plain": [
       "<Figure size 600x250 with 1 Axes>"
      ]
     },
     "metadata": {},
     "output_type": "display_data"
    }
   ],
   "source": [
    "f,ax = plt.subplots(1,1, figsize = [6, 2.5], tight_layout=False)\n",
    "X_min = 10\n",
    "X_max = 300\n",
    "\n",
    "a = session_behavior.a.values\n",
    "choice_trials = (a==1)|(a==2)\n",
    "choice_trials[:245]=False\n",
    "a = a[choice_trials]\n",
    "\n",
    "num_trial = len(a)\n",
    "x_ind = np.arange(1,num_trial+1)\n",
    "\n",
    "left_choice = (session_behavior.loc[choice_trials,'a'].reset_index(drop=True)==1)+0\n",
    "left_smooth = left_choice.rolling(10).mean()\n",
    "R = session_behavior.loc[choice_trials,'R'].reset_index(drop=True) #.values\n",
    "p_left = session_behavior.loc[choice_trials,'P(Left)'].reset_index(drop=True) #.values\n",
    "\n",
    "# make lick ticks\n",
    "left_reward = np.empty(num_trial); left_reward[:] = np.nan\n",
    "left_unreward = np.empty(num_trial); left_unreward[:] = np.nan\n",
    "right_reward = np.empty(num_trial); right_reward[:] = np.nan\n",
    "right_unreward = np.empty(num_trial); right_unreward[:] = np.nan\n",
    "left_reward[(a==1) & (R==1)] = 1\n",
    "right_reward[(a==2) & (R==1)] = 1\n",
    "left_unreward[(a==1) & (R==0)] = 1\n",
    "right_unreward[(a==2) & (R==0)] = 1\n",
    "\n",
    "ax.plot(x_ind,left_smooth,c=[0,0,.5], label='Left choice probability')\n",
    "ax.plot(x_ind,p_left,color='k', label='Reward probability')\n",
    "ax.plot(x_ind,left_reward+.05,'|',color=[0,0,1],markersize=5,linewidth=1, label='Left rewarded choice')\n",
    "ax.plot(x_ind,left_unreward+.1, '|',color=[.5,.5,1],markersize=5,linewidth=1, label='Left unrewarded choice')\n",
    "ax.plot(x_ind,right_reward-1.05,'|',color=[1,0,0],markersize=5,linewidth=1, label='Right rewarded choice')\n",
    "ax.plot(x_ind,right_unreward-1.1,'|',color=[1,.5,.5],markersize=5,linewidth=1, label='Right unrewarded choice')\n",
    "ax.legend(loc='upper left',frameon=False,ncol=3,bbox_to_anchor=(-.02,1.3,0,0),fontsize=10)\n",
    "\n",
    "ax.set_xlim([X_min, X_max])\n",
    "ax.set_ylim([-.2, 1.2])\n",
    "ax.set_ylabel('P(Left)',fontsize=12)\n",
    "ax.set_xlabel('Trial',fontsize=12)\n",
    "ax.set_yticks([0,.5,1])\n",
    "ax.spines['top'].set_visible(False)\n",
    "ax.spines['right'].set_visible(False)\n",
    "\n",
    "f.subplots_adjust(left=None, bottom=0.2, right=None, top=0.85, wspace=None, hspace=None)\n",
    "# f.savefig(pjoin(fig_save_dir,'1_beh','session_example_{}.png'.format(session)))\n",
    "# f.savefig(pjoin(fig_save_dir,'1_beh','session_example_{}.svg'.format(session)))"
   ]
  },
  {
   "cell_type": "markdown",
   "id": "0470977d-fd97-4224-974e-7de86dcda958",
   "metadata": {},
   "source": [
    "### [Plt] logistic weights example"
   ]
  },
  {
   "cell_type": "code",
   "execution_count": 12,
   "id": "f34383da-7358-4d3e-98ce-e7c7ef6955a6",
   "metadata": {},
   "outputs": [
    {
     "data": {
      "image/png": "[encoded data removed]",
      "text/plain": [
       "<Figure size 500x300 with 2 Axes>"
      ]
     },
     "metadata": {},
     "output_type": "display_data"
    }
   ],
   "source": [
    "f,ax = plt.subplots(1,2, sharex=True, sharey=True, figsize = [5, 3.0], tight_layout=False)\n",
    "n_back = 10\n",
    "y_lim = [-0.75,1.75]\n",
    "x_plt = -np.linspace((n_back),1,n_back)\n",
    "all_weights = session_results['RU_weights'].values[0]\n",
    "rewc_weights = all_weights[:n_back].copy(); \n",
    "unrc_weights = all_weights[n_back:2*n_back]\n",
    "\n",
    "ax[0].plot([-11,0],[0,0],'-k',linewidth=1)\n",
    "ax[0].plot(x_plt,rewc_weights,'.-k',ms=5)\n",
    "ax[0].set_ylabel('Weight\\nrewarded-choice',fontsize=12)\n",
    "# ax[0].set_title('Example session',fontsize=12)\n",
    "ax[0].set_xlabel('Trial',fontsize=12)\n",
    "\n",
    "ax[1].plot([-11,0],[0,0],'-k',linewidth=1)\n",
    "ax[1].plot(x_plt,unrc_weights,'.-k',ms=5)\n",
    "ax[1].set_ylabel('unrewarded-choice',fontsize=12)\n",
    "ax[1].set_xlabel('Trial',fontsize=12)\n",
    "ax[1].set_ylim(y_lim)\n",
    "ax[1].set_xlim([-11,0])\n",
    "ax[1].set_yticks([-0.5,0,.5,1,1.5])\n",
    "ax[1].set_xticks([-10,-5,-1])\n",
    "\n",
    "\n",
    "ax[0].spines['top'].set_visible(False)\n",
    "ax[0].spines['right'].set_visible(False)\n",
    "ax[1].spines['top'].set_visible(False)\n",
    "ax[1].spines['right'].set_visible(False)\n",
    "f.subplots_adjust(left=0.22, bottom=0.2, right=None, top=None, wspace=0.25, hspace=None)\n",
    "# f.savefig(pjoin(fig_save_dir,'1_beh','weights_example_{}.png'.format(session)))\n",
    "# f.savefig(pjoin(fig_save_dir,'1_beh','weights_example_{}.svg'.format(session)))"
   ]
  },
  {
   "cell_type": "markdown",
   "id": "6241a40c-2a4c-4c06-967f-f62aa27ba915",
   "metadata": {},
   "source": [
    "## Plot session logistics means"
   ]
  },
  {
   "cell_type": "markdown",
   "id": "f102d873-d6ae-450a-be6d-9fa2a3904f97",
   "metadata": {},
   "source": [
    "### Load and prep data"
   ]
  },
  {
   "cell_type": "code",
   "execution_count": 13,
   "id": "3715ee46-267b-4aca-8e21-34d5e782abe1",
   "metadata": {},
   "outputs": [],
   "source": [
    "files_savename = pjoin(behavior_dir, 'logstic_imaging_10_hist.pkl')\n",
    "logistic_expert = pickle.load(open(files_savename,'rb'))\n",
    "\n",
    "files_savename = pjoin(behavior_dir, 'logstic_full_rl_10_hist.pkl')\n",
    "logistic_full = pickle.load(open(files_savename,'rb'))\n",
    "\n",
    "files_savename = pjoin(behavior_dir, 'logstic_base_rl_10_hist.pkl')\n",
    "logistic_base = pickle.load(open(files_savename,'rb'))\n",
    "\n",
    "logistic_expert = logistic_expert.iloc[:74]\n",
    "logistic_full = logistic_full.iloc[:74]\n",
    "logistic_base = logistic_base.iloc[:74]"
   ]
  },
  {
   "cell_type": "code",
   "execution_count": 14,
   "id": "2fd878a7-4032-4840-8599-b8af5a433368",
   "metadata": {},
   "outputs": [],
   "source": [
    "weight_type = 'RU_weights'\n",
    "n_back = 10\n",
    "\n",
    "logit_weights_expert = np.zeros([len(logistic_expert),n_back])\n",
    "for ii in range(len(logistic_expert)):\n",
    "    logit_weights_expert[ii,:] = logistic_expert.loc[ii, weight_type][:n_back]\n",
    "\n",
    "logit_weights_base = np.zeros([len(logistic_base),10])\n",
    "for ii in range(len(logistic_base)):\n",
    "    logit_weights_base[ii,:] = logistic_base.loc[ii, weight_type][:n_back]\n",
    "\n",
    "logit_weights_full = np.zeros([len(logistic_full),10])\n",
    "for ii in range(len(logistic_full)):\n",
    "    logit_weights_full[ii,:] = logistic_full.loc[ii, weight_type][:n_back]"
   ]
  },
  {
   "cell_type": "markdown",
   "id": "66992e70-52aa-4a0a-b2e0-249ba58bd279",
   "metadata": {},
   "source": [
    "### [Plt] Grandmean of weights"
   ]
  },
  {
   "cell_type": "code",
   "execution_count": 15,
   "id": "49098346-3727-4020-b460-fbd3f77998bc",
   "metadata": {},
   "outputs": [
    {
     "name": "stdout",
     "output_type": "stream",
     "text": [
      "[1.47440267 2.33013116]\n",
      "[1.56258326 1.0215235 ]\n",
      "[1.1676661  3.11531526]\n",
      "[1.23686934 1.44727147]\n"
     ]
    },
    {
     "data": {
      "image/png": "[encoded data removed]",
      "text/plain": [
       "<Figure size 500x300 with 2 Axes>"
      ]
     },
     "metadata": {},
     "output_type": "display_data"
    }
   ],
   "source": [
    "f,ax = plt.subplots(1,2, sharey=True, sharex=True, figsize = [5,3.0], tight_layout=False)\n",
    "n_back = 10\n",
    "x_ind = -np.linspace((n_back-1),0,n_back)\n",
    "x_plt = -np.linspace((n_back),1,n_back)\n",
    "y_lim = [-0.75,1.75]\n",
    "\n",
    "# Real\n",
    "ax[0].plot([-11,0],[0,0],'-k',linewidth=1)\n",
    "y_mean = np.mean(logit_weights_expert,axis=0)\n",
    "y_err = np.std(logit_weights_expert,axis=0)/np.sqrt(len(logit_weights_expert)/2-1)\n",
    "ax[0].errorbar(x_plt,y_mean,y_err,c='k',\n",
    "               marker='o', markersize=3,\n",
    "               linestyle='none',capsize=4)\n",
    "decay_analysis = fit_decay_parameters(x_ind,y_mean)\n",
    "\n",
    "\n",
    "ax[0].plot(x_plt,exp_single(x_ind,*decay_analysis['single_exp']),color=plt_colors['exp'], label='exponential')\n",
    "ax[0].plot(x_plt,hyper(x_ind,*decay_analysis['hyper']),color=plt_colors['hyp'], label='hyperbolic')\n",
    "ax[0].text(0.05,.15,'Exponential (AIC={})'.format(np.round(decay_analysis['single_exp_AIC'],2)),\n",
    "           color=[.2, .6, .2],fontsize=10, transform = ax[0].transAxes)\n",
    "ax[0].text(0.05,.05,'Hyperbolic (AIC={})'.format(np.round(decay_analysis['hyper_AIC'],2)),\n",
    "           color=[.8, .2, .8],fontsize=10, transform = ax[0].transAxes)\n",
    "ax[0].set_ylabel('rewarded-choice', fontsize=12)\n",
    "# ax[0].set_title('Mice', fontsize=12)\n",
    "ax[0].set_ylim(y_lim)\n",
    "ax[0].set_xlim([-11,0])\n",
    "ax[0].set_yticks([-0.5,0,.5,1,1.5])\n",
    "ax[0].set_xticks([-10,-5,-1])\n",
    "ax[0].set_xlabel('Trial', fontsize=12)\n",
    "# ax.legend(loc='upper left', frameon=False, fontsize=12)\n",
    "\n",
    "# Simulation\n",
    "ax[1].plot([-11,0],[0,0],'-k',linewidth=1)\n",
    "y_mean = np.mean(logit_weights_full,axis=0)\n",
    "y_err = np.std(logit_weights_full,axis=0)/np.sqrt(len(logit_weights_full)/2-1)\n",
    "ax[1].errorbar(x_plt,y_mean,y_err,c='k',\n",
    "               marker='o', markersize=3,\n",
    "               linestyle='none',capsize=4)\n",
    "decay_analysis = fit_decay_parameters(x_ind,y_mean)\n",
    "\n",
    "ax[1].plot(x_plt,exp_single(x_ind,*decay_analysis['single_exp']),color=plt_colors['exp'], label='exponential')\n",
    "ax[1].plot(x_plt,hyper(x_ind,*decay_analysis['hyper']),color=plt_colors['hyp'], label='hyperbolic')\n",
    "ax[1].text(0.05,.15,'Exponential (AIC={})'.format(np.round(decay_analysis['single_exp_AIC'],2)),\n",
    "           color=[.2, .6, .2],fontsize=10, transform = ax[1].transAxes)\n",
    "ax[1].text(0.05,.05,'Hyperbolic (AIC={})'.format(np.round(decay_analysis['hyper_AIC'],2)),\n",
    "           color=[.8, .2, .8],fontsize=10, transform = ax[1].transAxes)\n",
    "\n",
    "ax[1].set_title('Simulated (RL)', fontsize=12)\n",
    "ax[1].set_ylim(y_lim)\n",
    "ax[1].set_xlim([-11,0])\n",
    "ax[1].set_yticks([-0.5,0,.5,1,1.5])\n",
    "ax[1].set_xticks([-10,-5,-1])\n",
    "ax[1].set_xlabel('Trial', fontsize=12)\n",
    "ax[1].set_ylabel('rewarded-choice', fontsize=12)\n",
    "# ax.legend(loc='upper left', frameon=False, fontsize=12)\n",
    "\n",
    "ax[0].spines['top'].set_visible(False)\n",
    "ax[0].spines['right'].set_visible(False)\n",
    "ax[1].spines['top'].set_visible(False)\n",
    "ax[1].spines['right'].set_visible(False)\n",
    "f.subplots_adjust(left=0.22, bottom=0.2, right=None, top=None, wspace=0.25, hspace=None)\n",
    "# f.savefig(pjoin(fig_save_dir,'1_beh','RC_logistic_regression_grandmean.png'))\n",
    "# f.savefig(pjoin(fig_save_dir,'1_beh','RC_logistic_regression_grandmean.svg'))"
   ]
  },
  {
   "cell_type": "markdown",
   "id": "6563b07f-c3d5-496f-870f-6e4937bd9f66",
   "metadata": {},
   "source": [
    "### Plot unrewarded weights"
   ]
  },
  {
   "cell_type": "code",
   "execution_count": 16,
   "id": "1051ae20-d595-41fa-a334-bf3dd36d2cbf",
   "metadata": {},
   "outputs": [],
   "source": [
    "weight_type = 'RU_weights'\n",
    "n_back = 10\n",
    "\n",
    "logit_weights_expert = np.zeros([len(logistic_expert),n_back])\n",
    "for ii in range(len(logistic_expert)):\n",
    "    logit_weights_expert[ii,:] = logistic_expert.loc[ii, weight_type][n_back:2*n_back]\n",
    "\n",
    "logit_weights_base = np.zeros([len(logistic_base),n_back])\n",
    "for ii in range(len(logistic_base)):\n",
    "    logit_weights_base[ii,:] = logistic_base.loc[ii, weight_type][n_back:2*n_back]\n",
    "\n",
    "logit_weights_full = np.zeros([len(logistic_full),n_back])\n",
    "for ii in range(len(logistic_full)):\n",
    "    logit_weights_full[ii,:] = logistic_full.loc[ii, weight_type][n_back:2*n_back]"
   ]
  },
  {
   "cell_type": "markdown",
   "id": "dbf6bffb-383a-4223-a6e4-94d1d2ade55b",
   "metadata": {},
   "source": [
    "### [Plt] UC Grandmean of weights"
   ]
  },
  {
   "cell_type": "code",
   "execution_count": 18,
   "id": "76ce4f4a-7e45-43dc-b7b4-556aaa38a2b7",
   "metadata": {},
   "outputs": [
    {
     "data": {
      "image/png": "[encoded data removed]",
      "text/plain": [
       "<Figure size 500x300 with 2 Axes>"
      ]
     },
     "metadata": {},
     "output_type": "display_data"
    }
   ],
   "source": [
    "f,ax = plt.subplots(1,2, sharey=True, sharex=True, figsize = [5,3.0], tight_layout=False)\n",
    "n_back = 10\n",
    "x_ind = -np.linspace((n_back-1),0,n_back)\n",
    "x_plt = -np.linspace((n_back),1,n_back)\n",
    "y_lim = [-0.75,1.75]\n",
    "\n",
    "# Real\n",
    "ax[0].plot([-11,0],[0,0],'-k',linewidth=1)\n",
    "y_mean = np.mean(logit_weights_expert,axis=0)\n",
    "y_err = np.std(logit_weights_expert,axis=0)/np.sqrt(len(logit_weights_expert)/2-1)\n",
    "ax[0].errorbar(x_plt,y_mean,y_err,c='k',\n",
    "               marker='o', markersize=3,\n",
    "               linestyle='none',capsize=4)\n",
    "\n",
    "ax[0].set_ylim(y_lim)\n",
    "ax[0].set_xlim([-11,0])\n",
    "ax[0].set_yticks([-0.5,0,.5,1,1.5])\n",
    "ax[0].set_xticks([-10,-5,-1])\n",
    "ax[0].set_xlabel('Trial', fontsize=12)\n",
    "ax[0].set_ylabel('unrewarded-choice', fontsize=12)\n",
    "# ax.legend(loc='upper left', frameon=False, fontsize=12)\n",
    "\n",
    "ax[1].axis('off')\n",
    "\n",
    "ax[0].spines['top'].set_visible(False)\n",
    "ax[0].spines['right'].set_visible(False)\n",
    "ax[1].spines['top'].set_visible(False)\n",
    "ax[1].spines['right'].set_visible(False)\n",
    "f.subplots_adjust(left=0.22, bottom=0.2, right=None, top=None, wspace=0.25, hspace=None)\n",
    "# f.savefig(pjoin(fig_save_dir,'1_beh','UC_logistic_regression_grandmean.png'))\n",
    "# f.savefig(pjoin(fig_save_dir,'1_beh','UC_logistic_regression_grandmean.svg'))"
   ]
  },
  {
   "cell_type": "markdown",
   "id": "c5f1165c-c24c-49c7-822b-82125efce816",
   "metadata": {},
   "source": [
    "## Plot behlogits"
   ]
  },
  {
   "cell_type": "markdown",
   "id": "3dca5202-bf6c-45cb-ab8f-0eae33856575",
   "metadata": {},
   "source": [
    "### Load and prep data"
   ]
  },
  {
   "cell_type": "code",
   "execution_count": 19,
   "id": "e2c65758-4421-4185-b663-8a0fcd8a68c7",
   "metadata": {},
   "outputs": [],
   "source": [
    "files_savename = pjoin(behavior_dir,'behlogit_imaging_15_hist.pkl')\n",
    "behlogit_expert = pickle.load(open(files_savename,'rb'))\n",
    "\n",
    "files_savename = pjoin(behavior_dir,'behlogit_imaging_15_hist_constrained.pkl')\n",
    "behlogit_con_expert = pickle.load(open(files_savename,'rb'))\n",
    "\n",
    "files_savename = pjoin(behavior_dir,'behlogit_rl_full_15_hist.pkl')\n",
    "behlogit_full = pickle.load(open(files_savename,'rb'))\n",
    "\n",
    "files_savename = pjoin(behavior_dir,'behlogit_rl_base_15_hist.pkl')\n",
    "behlogit_base = pickle.load(open(files_savename,'rb'))\n",
    "\n",
    "behlogit_expert = behlogit_expert.loc[behlogit_expert.index<75]\n",
    "behlogit_con_expert = behlogit_con_expert.loc[behlogit_con_expert.index<75]\n",
    "behlogit_full = behlogit_full.loc[behlogit_full.index<75]\n",
    "behlogit_base = behlogit_base.loc[behlogit_base.index<75]"
   ]
  },
  {
   "cell_type": "markdown",
   "id": "bb822579-6f66-415b-8377-3e106f70378f",
   "metadata": {},
   "source": [
    "### [Plt] compare exp_r, hyp_r (LL)"
   ]
  },
  {
   "cell_type": "code",
   "execution_count": 20,
   "id": "1a308911-7f92-407a-aff1-9f3eb5d58987",
   "metadata": {},
   "outputs": [
    {
     "name": "stdout",
     "output_type": "stream",
     "text": [
      "wilcoxon\n",
      "ttest\n",
      "[1.60592076e-11 1.12925600e-15]\n",
      "median, real: 4.69e-03, sim: -3.57e-03\n"
     ]
    },
    {
     "data": {
      "image/png": "[encoded data removed]",
      "text/plain": [
       "<Figure size 300x300 with 1 Axes>"
      ]
     },
     "metadata": {},
     "output_type": "display_data"
    }
   ],
   "source": [
    "f,ax = plt.subplots(1,1, sharey=True, sharex=True, figsize = [3, 3], tight_layout=False)\n",
    "real_15 = delta_loglik_func(behlogit_expert, behlogit_expert ,'hyp_r','exp_r',15)\n",
    "sim_15 = delta_loglik_func(behlogit_full, behlogit_full ,'hyp_r','exp_r',15)\n",
    "with_txt=False\n",
    "\n",
    "ax.plot([0,14],[0,0],'-k', linewidth=1)\n",
    "ax.boxplot([real_15,sim_15],\n",
    "              widths=0.25,\n",
    "              notch=False,\n",
    "              showfliers=False,\n",
    "           patch_artist=True,\n",
    "           boxprops=dict(facecolor='none',color='k',linewidth=1.2),\n",
    "           capprops=dict(color='k',linewidth=1.2),\n",
    "           whiskerprops=dict(color='k',linewidth=1.2),\n",
    "           medianprops=dict(color='k',linewidth=1.2))\n",
    "ax.set_ylim([-.02,.02])\n",
    "ax.set_xlim([.5,2.5])\n",
    "# ax.set_ylabel(r'$\\Delta$ loglik (Hyp(R) - Exp(R))',fontsize=10)\n",
    "ax.set_ylabel('D cv loglik per trial \\n (hyp - exp)',fontsize=12)\n",
    "ax.set_xticks([1,2])\n",
    "ax.set_xticklabels(['Mice','Simulated (RL)'],fontsize=12)\n",
    "ax.spines['top'].set_visible(False)\n",
    "ax.spines['right'].set_visible(False)\n",
    "\n",
    "f.subplots_adjust(left=0.3, bottom=0.18, right=None, top=None, wspace=None, hspace=None)\n",
    "if with_txt:\n",
    "    ax.text(.65,1.35,'p =',fontsize=8)\n",
    "    pval, sig_lvl, h_norm, pos_neg = stats_compare(real_15); pval_vec = pval\n",
    "    ax.text(1-0,1.35,'{0:.1e}'.format(pval),c='r',fontsize=8)\n",
    "    pval, sig_lvl, h_norm, pos_neg = stats_compare(sim_15); pval_vec = np.append(pval_vec,pval)\n",
    "    ax.text(2-.2,1.35,'{0:.1e}'.format(pval),c='k',fontsize=8)\n",
    "    # f.savefig(pjoin(fig_save_dir,'1_beh','delta_ll_exp_hyp_w_txt.png'))\n",
    "    # f.savefig(pjoin(fig_save_dir,'1_beh','delta_ll_exp_hyp_w_txt.svg'))\n",
    "else:\n",
    "    pval, sig_lvl, h_norm, pos_neg = stats_compare(real_15); pval_vec = pval\n",
    "    add_sig_plt(ax,.18,.95,10,pval,sig_lvl,pos_neg)\n",
    "    pval, sig_lvl, h_norm, pos_neg = stats_compare(sim_15); pval_vec = np.append(pval_vec,pval)\n",
    "    add_sig_plt(ax,.68,.95,10,pval,sig_lvl,pos_neg)\n",
    "    # f.savefig(pjoin(fig_save_dir,'1_beh','delta_ll_exp_hyp.png'))\n",
    "    # f.savefig(pjoin(fig_save_dir,'1_beh','delta_ll_exp_hyp.svg'))\n",
    "print(pval_vec)\n",
    "print('median, real: {0:.2e}, sim: {1:.2e}'.format(np.nanmedian(real_15), np.nanmedian(sim_15)))"
   ]
  },
  {
   "cell_type": "code",
   "execution_count": 21,
   "id": "de488695-c89f-4294-9c8a-23c506449b9e",
   "metadata": {},
   "outputs": [
    {
     "name": "stdout",
     "output_type": "stream",
     "text": [
      "Medians: 4.69e-03, -3.57e-03\n",
      "p values without multicompare are: 1.61e-11 1.13e-15\n",
      "p values with FDR (BH) are: 1.61e-11 2.26e-15\n",
      "p values with bonferoni are: 3.21e-11 2.26e-15\n"
     ]
    }
   ],
   "source": [
    "print('Medians: {0:.2e}, {1:.2e}'.format(np.median(real_15), np.median(sim_15)))\n",
    "# import statsmodels as sm\n",
    "_,pval_fdr,_,_ = sm.stats.multitest.multipletests(pval_vec, alpha=0.05,method='fdr_bh')\n",
    "_,pval_b,_,_ = sm.stats.multitest.multipletests(pval_vec, alpha=0.05,method='b')\n",
    "print('p values without multicompare are: {0:.2e} {1:.2e}'.format(*pval_vec))\n",
    "print('p values with FDR (BH) are: {0:.2e} {1:.2e}'.format(*pval_fdr))\n",
    "print('p values with bonferoni are: {0:.2e} {1:.2e}'.format(*pval_b))"
   ]
  },
  {
   "cell_type": "markdown",
   "id": "9c92d158-a8c5-486d-a659-a51199462bb0",
   "metadata": {},
   "source": [
    "### Load history behlogits"
   ]
  },
  {
   "cell_type": "code",
   "execution_count": 22,
   "id": "581f16f0-d713-487c-b505-970821052182",
   "metadata": {},
   "outputs": [],
   "source": [
    "files_savename = pjoin(behavior_dir,'behlogit_imaging_compare_hist.pkl')\n",
    "behlogit_expert = pickle.load(open(files_savename,'rb'))\n",
    "\n",
    "files_savename = pjoin(behavior_dir,'behlogit_rl_full_compare_hist.pkl')\n",
    "behlogit_full = pickle.load(open(files_savename,'rb'))\n",
    "\n",
    "files_savename = pjoin(behavior_dir,'behlogit_rl_base_compare_hist.pkl')\n",
    "behlogit_base = pickle.load(open(files_savename,'rb'))\n",
    "\n",
    "behlogit_expert = behlogit_expert.loc[behlogit_expert.index<75]\n",
    "behlogit_full = behlogit_full.loc[behlogit_full.index<75]\n",
    "behlogit_base = behlogit_base.loc[behlogit_base.index<75]"
   ]
  },
  {
   "cell_type": "markdown",
   "id": "f01ec146-8022-4deb-b20a-a387fb285ddb",
   "metadata": {},
   "source": [
    "### [Plt] supplement: history compare exp_r, hyp_r for expert, simulated"
   ]
  },
  {
   "cell_type": "code",
   "execution_count": 23,
   "id": "24e449f2-4c5f-4968-ab7e-c05d03fc1a33",
   "metadata": {
    "tags": []
   },
   "outputs": [
    {
     "name": "stdout",
     "output_type": "stream",
     "text": [
      "ttest\n",
      "wilcoxon\n",
      "wilcoxon\n",
      "wilcoxon\n",
      "p values without multicompare are: 3.55e-03 1.12e-11 1.61e-11 2.34e-09\n",
      "p values with FDR (BH) are: 3.55e-03 3.21e-11 3.21e-11 3.12e-09\n",
      "wilcoxon\n",
      "wilcoxon\n",
      "ttest\n",
      "ttest\n",
      "p values without multicompare are: 2.41e-01 1.98e-10 1.13e-15 2.71e-18\n",
      "p values with FDR (BH) are: 2.41e-01 2.64e-10 2.26e-15 1.08e-17\n"
     ]
    },
    {
     "data": {
      "image/png": "[encoded data removed]",
      "text/plain": [
       "<Figure size 650x250 with 2 Axes>"
      ]
     },
     "metadata": {},
     "output_type": "display_data"
    }
   ],
   "source": [
    "f,ax = plt.subplots(1,2, sharey=False, sharex=True, figsize = [6.5, 2.5])\n",
    "\n",
    "## Expert Data\n",
    "y_5 = delta_loglik_func(behlogit_expert, behlogit_expert ,'hyp_r','exp_r',30)\n",
    "y_10 = delta_loglik_func(behlogit_expert, behlogit_expert ,'hyp_r','exp_r',10)\n",
    "y_15 = delta_loglik_func(behlogit_expert, behlogit_expert ,'hyp_r','exp_r',15)\n",
    "y_20 = delta_loglik_func(behlogit_expert, behlogit_expert ,'hyp_r','exp_r',20)\n",
    "ax[0].plot([0,14],[0,0],'-k',linewidth=1)\n",
    "ax[0].boxplot([y_5,y_10,y_15,y_20],\n",
    "              notch=False,\n",
    "              showfliers=False,\n",
    "              medianprops={'c':'k'})\n",
    "ax[0].set_title('Mice',fontsize=12)\n",
    "ax[0].set_ylim([-.04,.04])\n",
    "ax[0].set_xlim([0,5])\n",
    "# ax[0].set_ylabel(r'$\\Delta$ loglik (Hyp(R) - Exp(R))',fontsize=10)\n",
    "ax[0].set_ylabel(' D cv loglik per trial \\n (hyp - exp) ',fontsize=12)\n",
    "ax[0].set_xticks([1,2,3,4])\n",
    "ax[0].set_xticklabels(['5','10','15','20'])#rotation=45)\n",
    "ax[0].set_xlabel('Past trials included',fontsize=12)\n",
    "ax[0].spines['top'].set_visible(False)\n",
    "ax[0].spines['right'].set_visible(False)\n",
    "\n",
    "pval, sig_lvl, h_norm, pos_neg = stats_compare(y_5); pval_vec = pval\n",
    "add_sig_plt(ax[0],.16,.95,7,pval,sig_lvl,pos_neg)\n",
    "pval, sig_lvl, h_norm, pos_neg = stats_compare(y_10); pval_vec = np.append(pval_vec,pval)\n",
    "add_sig_plt(ax[0],.36,.95,7,pval,sig_lvl,pos_neg)\n",
    "pval, sig_lvl, h_norm, pos_neg = stats_compare(y_15); pval_vec = np.append(pval_vec,pval)\n",
    "add_sig_plt(ax[0],.56,.95,7,pval,sig_lvl,pos_neg)\n",
    "pval, sig_lvl, h_norm, pos_neg = stats_compare(y_20); pval_vec = np.append(pval_vec,pval)\n",
    "add_sig_plt(ax[0],.76,.95,7,pval,sig_lvl,pos_neg)\n",
    "_,pval_fdr,_,_ = sm.stats.multitest.multipletests(pval_vec, alpha=0.05,method='fdr_bh')\n",
    "print('p values without multicompare are: {0:.2e} {1:.2e} {2:.2e} {3:.2e}'.format(*pval_vec))\n",
    "print('p values with FDR (BH) are: {0:.2e} {1:.2e} {2:.2e} {3:.2e}'.format(*pval_fdr))\n",
    "\n",
    "# ## Full RL Data\n",
    "y_5 = delta_loglik_func(behlogit_full, behlogit_full ,'hyp_r','exp_r',5)\n",
    "y_10 = delta_loglik_func(behlogit_full, behlogit_full ,'hyp_r','exp_r',10)\n",
    "y_15 = delta_loglik_func(behlogit_full, behlogit_full ,'hyp_r','exp_r',15)\n",
    "y_20 = delta_loglik_func(behlogit_full, behlogit_full ,'hyp_r','exp_r',20)\n",
    "\n",
    "ax[1].plot([0,14],[0,0],'-k',linewidth=1)\n",
    "ax[1].boxplot([y_5,y_10,y_15,y_20],\n",
    "              notch=False,\n",
    "              showfliers=False,\n",
    "              medianprops={'c':'k'})\n",
    "ax[1].set_title('Simulated (RL)',fontsize=12)\n",
    "ax[1].set_xlabel('Past trials included',fontsize=12)\n",
    "ax[1].set_xticks([1,2,3,4])\n",
    "ax[1].set_xticklabels(['5','10','15','20'])#,rotation=45)\n",
    "ax[1].set_ylim([-.04,.04])\n",
    "ax[1].spines['top'].set_visible(False)\n",
    "ax[1].spines['right'].set_visible(False)\n",
    "\n",
    "pval, sig_lvl, h_norm, pos_neg = stats_compare(y_5); pval_vec = pval\n",
    "add_sig_plt(ax[1],.16,.95,7,pval,sig_lvl,pos_neg)\n",
    "pval, sig_lvl, h_norm, pos_neg = stats_compare(y_10); pval_vec = np.append(pval_vec,pval)\n",
    "add_sig_plt(ax[1],.36,.95,7,pval,sig_lvl,pos_neg)\n",
    "pval, sig_lvl, h_norm, pos_neg = stats_compare(y_15); pval_vec = np.append(pval_vec,pval)\n",
    "add_sig_plt(ax[1],.56,.95,7,pval,sig_lvl,pos_neg)\n",
    "pval, sig_lvl, h_norm, pos_neg = stats_compare(y_20); pval_vec = np.append(pval_vec,pval)\n",
    "add_sig_plt(ax[1],.76,.95,7,pval,sig_lvl,pos_neg)\n",
    "_,pval_fdr,_,_ = sm.stats.multitest.multipletests(pval_vec, alpha=0.05,method='fdr_bh')\n",
    "print('p values without multicompare are: {0:.2e} {1:.2e} {2:.2e} {3:.2e}'.format(*pval_vec))\n",
    "print('p values with FDR (BH) are: {0:.2e} {1:.2e} {2:.2e} {3:.2e}'.format(*pval_fdr))\n",
    "\n",
    "f.subplots_adjust(left=0.2, bottom=.2, right=None, top=None, wspace=0.3, hspace=None)\n",
    "# f.savefig(pjoin(fig_save_dir,'1_beh', 'delta_loglik_exp_hyp_history.svg'))\n",
    "# f.savefig(pjoin(fig_save_dir,'1_beh','delta_loglik_exp_hyp_history.png'))"
   ]
  }
 ],
 "metadata": {
  "kernelspec": {
   "display_name": "Python 3 (ipykernel)",
   "language": "python",
   "name": "python3"
  },
  "language_info": {
   "codemirror_mode": {
    "name": "ipython",
    "version": 3
   },
   "file_extension": ".py",
   "mimetype": "text/x-python",
   "name": "python",
   "nbconvert_exporter": "python",
   "pygments_lexer": "ipython3",
   "version": "3.7.13"
  }
 },
 "nbformat": 4,
 "nbformat_minor": 5
}
